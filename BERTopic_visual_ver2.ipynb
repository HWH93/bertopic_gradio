{
 "cells": [
  {
   "cell_type": "code",
   "execution_count": 1,
   "metadata": {},
   "outputs": [],
   "source": [
    "import re\n",
    "import pandas as pd\n",
    "import numpy as np\n",
    "import os\n",
    "from datetime import datetime\n",
    "from gensim.models.coherencemodel import CoherenceModel\n",
    "from gensim.corpora.dictionary import Dictionary\n",
    "import gensim.corpora as corpora\n",
    "from scipy.cluster import hierarchy as sch\n",
    "from bertopic import BERTopic\n",
    "\n",
    "os.environ[\"TOKENIZERS_PARALLELISM\"] = \"false\"\n",
    "\n",
    "# Load data\n",
    "lucy = pd.read_csv('/workspace/data/lucy_Ukraine.csv')\n",
    "lucy['contents'] = lucy['contents'].replace(np.nan, '')\n",
    "lucy['contents'] = lucy['contents'].replace(\"\\n\", '')\n",
    "# Filter\n",
    "\n",
    "lucy.contents = lucy.apply(lambda row: \" \".join(re.sub(\"[-=+,#/\\?:^$.@*\\\"※~&%ㆍ!』\\\\‘|\\(\\)\\[\\]\\<\\>`\\'…《\\》]\", \" \", row.contents).split()), 1)\n",
    "lucy.contents = lucy.apply(lambda row: \" \".join(re.sub(\"([ㄱ-ㅎㅏ-ㅣ]+)\", \" \", row.contents).split()), 1)\n",
    "lucy.contents = lucy.apply(lambda row: \" \".join(re.sub(\"([♡❤✌❣♥ᆢ✊❤️✨⤵️☺️;”“]+)\", \" \", row.contents).split()), 1)\n",
    "lucy.contents = lucy.apply(lambda row: \" \".join(re.sub(\"_x000D_\", \"\", row.contents).split()), 1)\n",
    "timestamps = lucy.date.to_list()\n",
    "contents_data = lucy.contents.to_list()"
   ]
  },
  {
   "cell_type": "code",
   "execution_count": 2,
   "metadata": {},
   "outputs": [
    {
     "data": {
      "application/json": {
       "ascii": false,
       "bar_format": null,
       "colour": null,
       "elapsed": 0.013581275939941406,
       "initial": 0,
       "n": 0,
       "ncols": null,
       "nrows": null,
       "postfix": null,
       "prefix": "Batches",
       "rate": null,
       "total": 1345,
       "unit": "it",
       "unit_divisor": 1000,
       "unit_scale": false
      },
      "application/vnd.jupyter.widget-view+json": {
       "model_id": "c3cb47dc4ab24a24b388721204335f7a",
       "version_major": 2,
       "version_minor": 0
      },
      "text/plain": [
       "Batches:   0%|          | 0/1345 [00:00<?, ?it/s]"
      ]
     },
     "metadata": {},
     "output_type": "display_data"
    },
    {
     "name": "stderr",
     "output_type": "stream",
     "text": [
      "2023-01-13 06:40:30,768 - BERTopic - Transformed documents to Embeddings\n",
      "2023-01-13 06:41:22,255 - BERTopic - Reduced dimensionality\n",
      "2023-01-13 06:41:25,242 - BERTopic - Clustered reduced embeddings\n",
      "2023-01-13 06:42:15,768 - BERTopic - Reduced number of topics from 571 to 6\n"
     ]
    }
   ],
   "source": [
    "topic_model = BERTopic(min_topic_size=20, verbose=True, nr_topics=5, embedding_model='jhgan/ko-sbert-sts')\n",
    "topics, prob = topic_model.fit_transform(contents_data)"
   ]
  },
  {
   "cell_type": "code",
   "execution_count": 166,
   "metadata": {},
   "outputs": [
    {
     "name": "stderr",
     "output_type": "stream",
     "text": [
      "100%|██████████| 4/4 [00:00<00:00, 44.35it/s]\n"
     ]
    }
   ],
   "source": [
    "# Hierarchical topics\n",
    "linkage_function = lambda x: sch.linkage(x, 'single', optimal_ordering=True)\n",
    "hierarchical_topics = topic_model.hierarchical_topics(contents_data, linkage_function=linkage_function)"
   ]
  },
  {
   "cell_type": "code",
   "execution_count": 167,
   "metadata": {},
   "outputs": [
    {
     "data": {
      "application/vnd.plotly.v1+json": {
       "config": {
        "plotlyServerURL": "https://plot.ly"
       },
       "data": [
        {
         "hoverinfo": "text",
         "marker": {
          "color": "rgb(61,153,112)"
         },
         "mode": "lines",
         "text": [
          "러시아_국방부는_우크라이나_러시아군_하이마스",
          "",
          "",
          "우크라이나_키이우_드론_미사일_러시아"
         ],
         "type": "scatter",
         "x": [
          0,
          0.6921669329411348,
          0.6921669329411348,
          0
         ],
         "xaxis": "x",
         "y": [
          -5,
          -5,
          -15,
          -15
         ],
         "yaxis": "y"
        },
        {
         "hoverinfo": "text",
         "marker": {
          "color": "rgb(255,65,54)"
         },
         "mode": "lines",
         "text": [
          "모든_있는_그리고_내가_우리",
          "",
          "",
          "위해_여러분_위한_우리_통해"
         ],
         "type": "scatter",
         "x": [
          0,
          0.8266105540667085,
          0.8266105540667085,
          0
         ],
         "xaxis": "x",
         "y": [
          -25,
          -25,
          -35,
          -35
         ],
         "yaxis": "y"
        },
        {
         "hoverinfo": "text",
         "marker": {
          "color": "rgb(0,116,217)"
         },
         "mode": "lines",
         "text": [
          "위해_우리_여러분_있는_위한",
          "",
          "",
          "수출_달러_지난해_수출은_대비"
         ],
         "type": "scatter",
         "x": [
          0.8266105540667085,
          1.238378116901596,
          1.238378116901596,
          0
         ],
         "xaxis": "x",
         "y": [
          -30,
          -30,
          -45,
          -45
         ],
         "yaxis": "y"
        },
        {
         "hoverinfo": "text",
         "marker": {
          "color": "rgb(0,116,217)"
         },
         "mode": "lines",
         "text": [
          "우크라이나_러시아_미사일_키이우_드론",
          "",
          "",
          "위해_우리_있는_여러분_위한"
         ],
         "type": "scatter",
         "x": [
          0.6921669329411348,
          1.5632556273015477,
          1.5632556273015477,
          1.238378116901596
         ],
         "xaxis": "x",
         "y": [
          -10,
          -10,
          -37.5,
          -37.5
         ],
         "yaxis": "y"
        },
        {
         "hoverinfo": "text",
         "hovertext": [
          "위해_우리_여러분_있는_위한",
          "우크라이나_러시아_미사일_키이우_드론"
         ],
         "marker": {
          "color": "black"
         },
         "mode": "markers",
         "showlegend": false,
         "type": "scatter",
         "x": [
          0.8266105540667085,
          0.6921669329411348
         ],
         "y": [
          -30,
          -10
         ]
        },
        {
         "hoverinfo": "text",
         "hovertext": [
          "위해_우리_있는_여러분_위한"
         ],
         "marker": {
          "color": "black"
         },
         "mode": "markers",
         "showlegend": false,
         "type": "scatter",
         "x": [
          1.238378116901596
         ],
         "y": [
          -37.5
         ]
        }
       ],
       "layout": {
        "autosize": false,
        "height": 275,
        "hoverlabel": {
         "bgcolor": "white",
         "font": {
          "family": "Rockwell",
          "size": 16
         }
        },
        "hovermode": "closest",
        "plot_bgcolor": "#ECEFF1",
        "showlegend": false,
        "template": {
         "data": {
          "bar": [
           {
            "error_x": {
             "color": "#2a3f5f"
            },
            "error_y": {
             "color": "#2a3f5f"
            },
            "marker": {
             "line": {
              "color": "white",
              "width": 0.5
             },
             "pattern": {
              "fillmode": "overlay",
              "size": 10,
              "solidity": 0.2
             }
            },
            "type": "bar"
           }
          ],
          "barpolar": [
           {
            "marker": {
             "line": {
              "color": "white",
              "width": 0.5
             },
             "pattern": {
              "fillmode": "overlay",
              "size": 10,
              "solidity": 0.2
             }
            },
            "type": "barpolar"
           }
          ],
          "carpet": [
           {
            "aaxis": {
             "endlinecolor": "#2a3f5f",
             "gridcolor": "#C8D4E3",
             "linecolor": "#C8D4E3",
             "minorgridcolor": "#C8D4E3",
             "startlinecolor": "#2a3f5f"
            },
            "baxis": {
             "endlinecolor": "#2a3f5f",
             "gridcolor": "#C8D4E3",
             "linecolor": "#C8D4E3",
             "minorgridcolor": "#C8D4E3",
             "startlinecolor": "#2a3f5f"
            },
            "type": "carpet"
           }
          ],
          "choropleth": [
           {
            "colorbar": {
             "outlinewidth": 0,
             "ticks": ""
            },
            "type": "choropleth"
           }
          ],
          "contour": [
           {
            "colorbar": {
             "outlinewidth": 0,
             "ticks": ""
            },
            "colorscale": [
             [
              0,
              "#0d0887"
             ],
             [
              0.1111111111111111,
              "#46039f"
             ],
             [
              0.2222222222222222,
              "#7201a8"
             ],
             [
              0.3333333333333333,
              "#9c179e"
             ],
             [
              0.4444444444444444,
              "#bd3786"
             ],
             [
              0.5555555555555556,
              "#d8576b"
             ],
             [
              0.6666666666666666,
              "#ed7953"
             ],
             [
              0.7777777777777778,
              "#fb9f3a"
             ],
             [
              0.8888888888888888,
              "#fdca26"
             ],
             [
              1,
              "#f0f921"
             ]
            ],
            "type": "contour"
           }
          ],
          "contourcarpet": [
           {
            "colorbar": {
             "outlinewidth": 0,
             "ticks": ""
            },
            "type": "contourcarpet"
           }
          ],
          "heatmap": [
           {
            "colorbar": {
             "outlinewidth": 0,
             "ticks": ""
            },
            "colorscale": [
             [
              0,
              "#0d0887"
             ],
             [
              0.1111111111111111,
              "#46039f"
             ],
             [
              0.2222222222222222,
              "#7201a8"
             ],
             [
              0.3333333333333333,
              "#9c179e"
             ],
             [
              0.4444444444444444,
              "#bd3786"
             ],
             [
              0.5555555555555556,
              "#d8576b"
             ],
             [
              0.6666666666666666,
              "#ed7953"
             ],
             [
              0.7777777777777778,
              "#fb9f3a"
             ],
             [
              0.8888888888888888,
              "#fdca26"
             ],
             [
              1,
              "#f0f921"
             ]
            ],
            "type": "heatmap"
           }
          ],
          "heatmapgl": [
           {
            "colorbar": {
             "outlinewidth": 0,
             "ticks": ""
            },
            "colorscale": [
             [
              0,
              "#0d0887"
             ],
             [
              0.1111111111111111,
              "#46039f"
             ],
             [
              0.2222222222222222,
              "#7201a8"
             ],
             [
              0.3333333333333333,
              "#9c179e"
             ],
             [
              0.4444444444444444,
              "#bd3786"
             ],
             [
              0.5555555555555556,
              "#d8576b"
             ],
             [
              0.6666666666666666,
              "#ed7953"
             ],
             [
              0.7777777777777778,
              "#fb9f3a"
             ],
             [
              0.8888888888888888,
              "#fdca26"
             ],
             [
              1,
              "#f0f921"
             ]
            ],
            "type": "heatmapgl"
           }
          ],
          "histogram": [
           {
            "marker": {
             "pattern": {
              "fillmode": "overlay",
              "size": 10,
              "solidity": 0.2
             }
            },
            "type": "histogram"
           }
          ],
          "histogram2d": [
           {
            "colorbar": {
             "outlinewidth": 0,
             "ticks": ""
            },
            "colorscale": [
             [
              0,
              "#0d0887"
             ],
             [
              0.1111111111111111,
              "#46039f"
             ],
             [
              0.2222222222222222,
              "#7201a8"
             ],
             [
              0.3333333333333333,
              "#9c179e"
             ],
             [
              0.4444444444444444,
              "#bd3786"
             ],
             [
              0.5555555555555556,
              "#d8576b"
             ],
             [
              0.6666666666666666,
              "#ed7953"
             ],
             [
              0.7777777777777778,
              "#fb9f3a"
             ],
             [
              0.8888888888888888,
              "#fdca26"
             ],
             [
              1,
              "#f0f921"
             ]
            ],
            "type": "histogram2d"
           }
          ],
          "histogram2dcontour": [
           {
            "colorbar": {
             "outlinewidth": 0,
             "ticks": ""
            },
            "colorscale": [
             [
              0,
              "#0d0887"
             ],
             [
              0.1111111111111111,
              "#46039f"
             ],
             [
              0.2222222222222222,
              "#7201a8"
             ],
             [
              0.3333333333333333,
              "#9c179e"
             ],
             [
              0.4444444444444444,
              "#bd3786"
             ],
             [
              0.5555555555555556,
              "#d8576b"
             ],
             [
              0.6666666666666666,
              "#ed7953"
             ],
             [
              0.7777777777777778,
              "#fb9f3a"
             ],
             [
              0.8888888888888888,
              "#fdca26"
             ],
             [
              1,
              "#f0f921"
             ]
            ],
            "type": "histogram2dcontour"
           }
          ],
          "mesh3d": [
           {
            "colorbar": {
             "outlinewidth": 0,
             "ticks": ""
            },
            "type": "mesh3d"
           }
          ],
          "parcoords": [
           {
            "line": {
             "colorbar": {
              "outlinewidth": 0,
              "ticks": ""
             }
            },
            "type": "parcoords"
           }
          ],
          "pie": [
           {
            "automargin": true,
            "type": "pie"
           }
          ],
          "scatter": [
           {
            "fillpattern": {
             "fillmode": "overlay",
             "size": 10,
             "solidity": 0.2
            },
            "type": "scatter"
           }
          ],
          "scatter3d": [
           {
            "line": {
             "colorbar": {
              "outlinewidth": 0,
              "ticks": ""
             }
            },
            "marker": {
             "colorbar": {
              "outlinewidth": 0,
              "ticks": ""
             }
            },
            "type": "scatter3d"
           }
          ],
          "scattercarpet": [
           {
            "marker": {
             "colorbar": {
              "outlinewidth": 0,
              "ticks": ""
             }
            },
            "type": "scattercarpet"
           }
          ],
          "scattergeo": [
           {
            "marker": {
             "colorbar": {
              "outlinewidth": 0,
              "ticks": ""
             }
            },
            "type": "scattergeo"
           }
          ],
          "scattergl": [
           {
            "marker": {
             "colorbar": {
              "outlinewidth": 0,
              "ticks": ""
             }
            },
            "type": "scattergl"
           }
          ],
          "scattermapbox": [
           {
            "marker": {
             "colorbar": {
              "outlinewidth": 0,
              "ticks": ""
             }
            },
            "type": "scattermapbox"
           }
          ],
          "scatterpolar": [
           {
            "marker": {
             "colorbar": {
              "outlinewidth": 0,
              "ticks": ""
             }
            },
            "type": "scatterpolar"
           }
          ],
          "scatterpolargl": [
           {
            "marker": {
             "colorbar": {
              "outlinewidth": 0,
              "ticks": ""
             }
            },
            "type": "scatterpolargl"
           }
          ],
          "scatterternary": [
           {
            "marker": {
             "colorbar": {
              "outlinewidth": 0,
              "ticks": ""
             }
            },
            "type": "scatterternary"
           }
          ],
          "surface": [
           {
            "colorbar": {
             "outlinewidth": 0,
             "ticks": ""
            },
            "colorscale": [
             [
              0,
              "#0d0887"
             ],
             [
              0.1111111111111111,
              "#46039f"
             ],
             [
              0.2222222222222222,
              "#7201a8"
             ],
             [
              0.3333333333333333,
              "#9c179e"
             ],
             [
              0.4444444444444444,
              "#bd3786"
             ],
             [
              0.5555555555555556,
              "#d8576b"
             ],
             [
              0.6666666666666666,
              "#ed7953"
             ],
             [
              0.7777777777777778,
              "#fb9f3a"
             ],
             [
              0.8888888888888888,
              "#fdca26"
             ],
             [
              1,
              "#f0f921"
             ]
            ],
            "type": "surface"
           }
          ],
          "table": [
           {
            "cells": {
             "fill": {
              "color": "#EBF0F8"
             },
             "line": {
              "color": "white"
             }
            },
            "header": {
             "fill": {
              "color": "#C8D4E3"
             },
             "line": {
              "color": "white"
             }
            },
            "type": "table"
           }
          ]
         },
         "layout": {
          "annotationdefaults": {
           "arrowcolor": "#2a3f5f",
           "arrowhead": 0,
           "arrowwidth": 1
          },
          "autotypenumbers": "strict",
          "coloraxis": {
           "colorbar": {
            "outlinewidth": 0,
            "ticks": ""
           }
          },
          "colorscale": {
           "diverging": [
            [
             0,
             "#8e0152"
            ],
            [
             0.1,
             "#c51b7d"
            ],
            [
             0.2,
             "#de77ae"
            ],
            [
             0.3,
             "#f1b6da"
            ],
            [
             0.4,
             "#fde0ef"
            ],
            [
             0.5,
             "#f7f7f7"
            ],
            [
             0.6,
             "#e6f5d0"
            ],
            [
             0.7,
             "#b8e186"
            ],
            [
             0.8,
             "#7fbc41"
            ],
            [
             0.9,
             "#4d9221"
            ],
            [
             1,
             "#276419"
            ]
           ],
           "sequential": [
            [
             0,
             "#0d0887"
            ],
            [
             0.1111111111111111,
             "#46039f"
            ],
            [
             0.2222222222222222,
             "#7201a8"
            ],
            [
             0.3333333333333333,
             "#9c179e"
            ],
            [
             0.4444444444444444,
             "#bd3786"
            ],
            [
             0.5555555555555556,
             "#d8576b"
            ],
            [
             0.6666666666666666,
             "#ed7953"
            ],
            [
             0.7777777777777778,
             "#fb9f3a"
            ],
            [
             0.8888888888888888,
             "#fdca26"
            ],
            [
             1,
             "#f0f921"
            ]
           ],
           "sequentialminus": [
            [
             0,
             "#0d0887"
            ],
            [
             0.1111111111111111,
             "#46039f"
            ],
            [
             0.2222222222222222,
             "#7201a8"
            ],
            [
             0.3333333333333333,
             "#9c179e"
            ],
            [
             0.4444444444444444,
             "#bd3786"
            ],
            [
             0.5555555555555556,
             "#d8576b"
            ],
            [
             0.6666666666666666,
             "#ed7953"
            ],
            [
             0.7777777777777778,
             "#fb9f3a"
            ],
            [
             0.8888888888888888,
             "#fdca26"
            ],
            [
             1,
             "#f0f921"
            ]
           ]
          },
          "colorway": [
           "#636efa",
           "#EF553B",
           "#00cc96",
           "#ab63fa",
           "#FFA15A",
           "#19d3f3",
           "#FF6692",
           "#B6E880",
           "#FF97FF",
           "#FECB52"
          ],
          "font": {
           "color": "#2a3f5f"
          },
          "geo": {
           "bgcolor": "white",
           "lakecolor": "white",
           "landcolor": "white",
           "showlakes": true,
           "showland": true,
           "subunitcolor": "#C8D4E3"
          },
          "hoverlabel": {
           "align": "left"
          },
          "hovermode": "closest",
          "mapbox": {
           "style": "light"
          },
          "paper_bgcolor": "white",
          "plot_bgcolor": "white",
          "polar": {
           "angularaxis": {
            "gridcolor": "#EBF0F8",
            "linecolor": "#EBF0F8",
            "ticks": ""
           },
           "bgcolor": "white",
           "radialaxis": {
            "gridcolor": "#EBF0F8",
            "linecolor": "#EBF0F8",
            "ticks": ""
           }
          },
          "scene": {
           "xaxis": {
            "backgroundcolor": "white",
            "gridcolor": "#DFE8F3",
            "gridwidth": 2,
            "linecolor": "#EBF0F8",
            "showbackground": true,
            "ticks": "",
            "zerolinecolor": "#EBF0F8"
           },
           "yaxis": {
            "backgroundcolor": "white",
            "gridcolor": "#DFE8F3",
            "gridwidth": 2,
            "linecolor": "#EBF0F8",
            "showbackground": true,
            "ticks": "",
            "zerolinecolor": "#EBF0F8"
           },
           "zaxis": {
            "backgroundcolor": "white",
            "gridcolor": "#DFE8F3",
            "gridwidth": 2,
            "linecolor": "#EBF0F8",
            "showbackground": true,
            "ticks": "",
            "zerolinecolor": "#EBF0F8"
           }
          },
          "shapedefaults": {
           "line": {
            "color": "#2a3f5f"
           }
          },
          "ternary": {
           "aaxis": {
            "gridcolor": "#DFE8F3",
            "linecolor": "#A2B1C6",
            "ticks": ""
           },
           "baxis": {
            "gridcolor": "#DFE8F3",
            "linecolor": "#A2B1C6",
            "ticks": ""
           },
           "bgcolor": "white",
           "caxis": {
            "gridcolor": "#DFE8F3",
            "linecolor": "#A2B1C6",
            "ticks": ""
           }
          },
          "title": {
           "x": 0.05
          },
          "xaxis": {
           "automargin": true,
           "gridcolor": "#EBF0F8",
           "linecolor": "#EBF0F8",
           "ticks": "",
           "title": {
            "standoff": 15
           },
           "zerolinecolor": "#EBF0F8",
           "zerolinewidth": 2
          },
          "yaxis": {
           "automargin": true,
           "gridcolor": "#EBF0F8",
           "linecolor": "#EBF0F8",
           "ticks": "",
           "title": {
            "standoff": 15
           },
           "zerolinecolor": "#EBF0F8",
           "zerolinewidth": 2
          }
         }
        },
        "title": {
         "font": {
          "color": "Black",
          "size": 22
         },
         "text": "<b>Hierarchical Clustering",
         "x": 0.5,
         "xanchor": "center",
         "yanchor": "top"
        },
        "width": 800,
        "xaxis": {
         "mirror": "allticks",
         "rangemode": "tozero",
         "showgrid": false,
         "showline": true,
         "showticklabels": true,
         "ticks": "outside",
         "type": "linear",
         "zeroline": false
        },
        "yaxis": {
         "mirror": "allticks",
         "range": [
          -50,
          0
         ],
         "rangemode": "tozero",
         "showgrid": false,
         "showline": true,
         "showticklabels": true,
         "tickmode": "array",
         "ticks": "outside",
         "ticktext": [
          "4_러시아_국방부는_우크라이나",
          "3_우크라이나_키이우_드론",
          "1_모든_있는_그리고",
          "0_위해_여러분_위한",
          "2_수출_달러_지난해"
         ],
         "tickvals": [
          -5,
          -15,
          -25,
          -35,
          -45
         ],
         "type": "linear",
         "zeroline": false
        }
       }
      },
      "text/html": [
       "<div>                            <div id=\"24f59fe9-9281-42f2-927a-6819495e42c4\" class=\"plotly-graph-div\" style=\"height:275px; width:800px;\"></div>            <script type=\"text/javascript\">                require([\"plotly\"], function(Plotly) {                    window.PLOTLYENV=window.PLOTLYENV || {};                                    if (document.getElementById(\"24f59fe9-9281-42f2-927a-6819495e42c4\")) {                    Plotly.newPlot(                        \"24f59fe9-9281-42f2-927a-6819495e42c4\",                        [{\"hoverinfo\":\"text\",\"marker\":{\"color\":\"rgb(61,153,112)\"},\"mode\":\"lines\",\"text\":[\"\\ub7ec\\uc2dc\\uc544_\\uad6d\\ubc29\\ubd80\\ub294_\\uc6b0\\ud06c\\ub77c\\uc774\\ub098_\\ub7ec\\uc2dc\\uc544\\uad70_\\ud558\\uc774\\ub9c8\\uc2a4\",\"\",\"\",\"\\uc6b0\\ud06c\\ub77c\\uc774\\ub098_\\ud0a4\\uc774\\uc6b0_\\ub4dc\\ub860_\\ubbf8\\uc0ac\\uc77c_\\ub7ec\\uc2dc\\uc544\"],\"x\":[0.0,0.6921669329411348,0.6921669329411348,0.0],\"xaxis\":\"x\",\"y\":[-5.0,-5.0,-15.0,-15.0],\"yaxis\":\"y\",\"type\":\"scatter\"},{\"hoverinfo\":\"text\",\"marker\":{\"color\":\"rgb(255,65,54)\"},\"mode\":\"lines\",\"text\":[\"\\ubaa8\\ub4e0_\\uc788\\ub294_\\uadf8\\ub9ac\\uace0_\\ub0b4\\uac00_\\uc6b0\\ub9ac\",\"\",\"\",\"\\uc704\\ud574_\\uc5ec\\ub7ec\\ubd84_\\uc704\\ud55c_\\uc6b0\\ub9ac_\\ud1b5\\ud574\"],\"x\":[0.0,0.8266105540667085,0.8266105540667085,0.0],\"xaxis\":\"x\",\"y\":[-25.0,-25.0,-35.0,-35.0],\"yaxis\":\"y\",\"type\":\"scatter\"},{\"hoverinfo\":\"text\",\"marker\":{\"color\":\"rgb(0,116,217)\"},\"mode\":\"lines\",\"text\":[\"\\uc704\\ud574_\\uc6b0\\ub9ac_\\uc5ec\\ub7ec\\ubd84_\\uc788\\ub294_\\uc704\\ud55c\",\"\",\"\",\"\\uc218\\ucd9c_\\ub2ec\\ub7ec_\\uc9c0\\ub09c\\ud574_\\uc218\\ucd9c\\uc740_\\ub300\\ube44\"],\"x\":[0.8266105540667085,1.238378116901596,1.238378116901596,0.0],\"xaxis\":\"x\",\"y\":[-30.0,-30.0,-45.0,-45.0],\"yaxis\":\"y\",\"type\":\"scatter\"},{\"hoverinfo\":\"text\",\"marker\":{\"color\":\"rgb(0,116,217)\"},\"mode\":\"lines\",\"text\":[\"\\uc6b0\\ud06c\\ub77c\\uc774\\ub098_\\ub7ec\\uc2dc\\uc544_\\ubbf8\\uc0ac\\uc77c_\\ud0a4\\uc774\\uc6b0_\\ub4dc\\ub860\",\"\",\"\",\"\\uc704\\ud574_\\uc6b0\\ub9ac_\\uc788\\ub294_\\uc5ec\\ub7ec\\ubd84_\\uc704\\ud55c\"],\"x\":[0.6921669329411348,1.5632556273015477,1.5632556273015477,1.238378116901596],\"xaxis\":\"x\",\"y\":[-10.0,-10.0,-37.5,-37.5],\"yaxis\":\"y\",\"type\":\"scatter\"},{\"hoverinfo\":\"text\",\"hovertext\":[\"\\uc704\\ud574_\\uc6b0\\ub9ac_\\uc5ec\\ub7ec\\ubd84_\\uc788\\ub294_\\uc704\\ud55c\",\"\\uc6b0\\ud06c\\ub77c\\uc774\\ub098_\\ub7ec\\uc2dc\\uc544_\\ubbf8\\uc0ac\\uc77c_\\ud0a4\\uc774\\uc6b0_\\ub4dc\\ub860\"],\"marker\":{\"color\":\"black\"},\"mode\":\"markers\",\"showlegend\":false,\"x\":[0.8266105540667085,0.6921669329411348],\"y\":[-30.0,-10.0],\"type\":\"scatter\"},{\"hoverinfo\":\"text\",\"hovertext\":[\"\\uc704\\ud574_\\uc6b0\\ub9ac_\\uc788\\ub294_\\uc5ec\\ub7ec\\ubd84_\\uc704\\ud55c\"],\"marker\":{\"color\":\"black\"},\"mode\":\"markers\",\"showlegend\":false,\"x\":[1.238378116901596],\"y\":[-37.5],\"type\":\"scatter\"}],                        {\"autosize\":false,\"height\":275,\"hovermode\":\"closest\",\"showlegend\":false,\"width\":800,\"xaxis\":{\"mirror\":\"allticks\",\"rangemode\":\"tozero\",\"showgrid\":false,\"showline\":true,\"showticklabels\":true,\"ticks\":\"outside\",\"type\":\"linear\",\"zeroline\":false},\"yaxis\":{\"mirror\":\"allticks\",\"rangemode\":\"tozero\",\"showgrid\":false,\"showline\":true,\"showticklabels\":true,\"tickmode\":\"array\",\"ticks\":\"outside\",\"ticktext\":[\"4_\\ub7ec\\uc2dc\\uc544_\\uad6d\\ubc29\\ubd80\\ub294_\\uc6b0\\ud06c\\ub77c\\uc774\\ub098\",\"3_\\uc6b0\\ud06c\\ub77c\\uc774\\ub098_\\ud0a4\\uc774\\uc6b0_\\ub4dc\\ub860\",\"1_\\ubaa8\\ub4e0_\\uc788\\ub294_\\uadf8\\ub9ac\\uace0\",\"0_\\uc704\\ud574_\\uc5ec\\ub7ec\\ubd84_\\uc704\\ud55c\",\"2_\\uc218\\ucd9c_\\ub2ec\\ub7ec_\\uc9c0\\ub09c\\ud574\"],\"tickvals\":[-5.0,-15.0,-25.0,-35.0,-45.0],\"type\":\"linear\",\"zeroline\":false,\"range\":[-50.0,0.0]},\"template\":{\"data\":{\"barpolar\":[{\"marker\":{\"line\":{\"color\":\"white\",\"width\":0.5},\"pattern\":{\"fillmode\":\"overlay\",\"size\":10,\"solidity\":0.2}},\"type\":\"barpolar\"}],\"bar\":[{\"error_x\":{\"color\":\"#2a3f5f\"},\"error_y\":{\"color\":\"#2a3f5f\"},\"marker\":{\"line\":{\"color\":\"white\",\"width\":0.5},\"pattern\":{\"fillmode\":\"overlay\",\"size\":10,\"solidity\":0.2}},\"type\":\"bar\"}],\"carpet\":[{\"aaxis\":{\"endlinecolor\":\"#2a3f5f\",\"gridcolor\":\"#C8D4E3\",\"linecolor\":\"#C8D4E3\",\"minorgridcolor\":\"#C8D4E3\",\"startlinecolor\":\"#2a3f5f\"},\"baxis\":{\"endlinecolor\":\"#2a3f5f\",\"gridcolor\":\"#C8D4E3\",\"linecolor\":\"#C8D4E3\",\"minorgridcolor\":\"#C8D4E3\",\"startlinecolor\":\"#2a3f5f\"},\"type\":\"carpet\"}],\"choropleth\":[{\"colorbar\":{\"outlinewidth\":0,\"ticks\":\"\"},\"type\":\"choropleth\"}],\"contourcarpet\":[{\"colorbar\":{\"outlinewidth\":0,\"ticks\":\"\"},\"type\":\"contourcarpet\"}],\"contour\":[{\"colorbar\":{\"outlinewidth\":0,\"ticks\":\"\"},\"colorscale\":[[0.0,\"#0d0887\"],[0.1111111111111111,\"#46039f\"],[0.2222222222222222,\"#7201a8\"],[0.3333333333333333,\"#9c179e\"],[0.4444444444444444,\"#bd3786\"],[0.5555555555555556,\"#d8576b\"],[0.6666666666666666,\"#ed7953\"],[0.7777777777777778,\"#fb9f3a\"],[0.8888888888888888,\"#fdca26\"],[1.0,\"#f0f921\"]],\"type\":\"contour\"}],\"heatmapgl\":[{\"colorbar\":{\"outlinewidth\":0,\"ticks\":\"\"},\"colorscale\":[[0.0,\"#0d0887\"],[0.1111111111111111,\"#46039f\"],[0.2222222222222222,\"#7201a8\"],[0.3333333333333333,\"#9c179e\"],[0.4444444444444444,\"#bd3786\"],[0.5555555555555556,\"#d8576b\"],[0.6666666666666666,\"#ed7953\"],[0.7777777777777778,\"#fb9f3a\"],[0.8888888888888888,\"#fdca26\"],[1.0,\"#f0f921\"]],\"type\":\"heatmapgl\"}],\"heatmap\":[{\"colorbar\":{\"outlinewidth\":0,\"ticks\":\"\"},\"colorscale\":[[0.0,\"#0d0887\"],[0.1111111111111111,\"#46039f\"],[0.2222222222222222,\"#7201a8\"],[0.3333333333333333,\"#9c179e\"],[0.4444444444444444,\"#bd3786\"],[0.5555555555555556,\"#d8576b\"],[0.6666666666666666,\"#ed7953\"],[0.7777777777777778,\"#fb9f3a\"],[0.8888888888888888,\"#fdca26\"],[1.0,\"#f0f921\"]],\"type\":\"heatmap\"}],\"histogram2dcontour\":[{\"colorbar\":{\"outlinewidth\":0,\"ticks\":\"\"},\"colorscale\":[[0.0,\"#0d0887\"],[0.1111111111111111,\"#46039f\"],[0.2222222222222222,\"#7201a8\"],[0.3333333333333333,\"#9c179e\"],[0.4444444444444444,\"#bd3786\"],[0.5555555555555556,\"#d8576b\"],[0.6666666666666666,\"#ed7953\"],[0.7777777777777778,\"#fb9f3a\"],[0.8888888888888888,\"#fdca26\"],[1.0,\"#f0f921\"]],\"type\":\"histogram2dcontour\"}],\"histogram2d\":[{\"colorbar\":{\"outlinewidth\":0,\"ticks\":\"\"},\"colorscale\":[[0.0,\"#0d0887\"],[0.1111111111111111,\"#46039f\"],[0.2222222222222222,\"#7201a8\"],[0.3333333333333333,\"#9c179e\"],[0.4444444444444444,\"#bd3786\"],[0.5555555555555556,\"#d8576b\"],[0.6666666666666666,\"#ed7953\"],[0.7777777777777778,\"#fb9f3a\"],[0.8888888888888888,\"#fdca26\"],[1.0,\"#f0f921\"]],\"type\":\"histogram2d\"}],\"histogram\":[{\"marker\":{\"pattern\":{\"fillmode\":\"overlay\",\"size\":10,\"solidity\":0.2}},\"type\":\"histogram\"}],\"mesh3d\":[{\"colorbar\":{\"outlinewidth\":0,\"ticks\":\"\"},\"type\":\"mesh3d\"}],\"parcoords\":[{\"line\":{\"colorbar\":{\"outlinewidth\":0,\"ticks\":\"\"}},\"type\":\"parcoords\"}],\"pie\":[{\"automargin\":true,\"type\":\"pie\"}],\"scatter3d\":[{\"line\":{\"colorbar\":{\"outlinewidth\":0,\"ticks\":\"\"}},\"marker\":{\"colorbar\":{\"outlinewidth\":0,\"ticks\":\"\"}},\"type\":\"scatter3d\"}],\"scattercarpet\":[{\"marker\":{\"colorbar\":{\"outlinewidth\":0,\"ticks\":\"\"}},\"type\":\"scattercarpet\"}],\"scattergeo\":[{\"marker\":{\"colorbar\":{\"outlinewidth\":0,\"ticks\":\"\"}},\"type\":\"scattergeo\"}],\"scattergl\":[{\"marker\":{\"colorbar\":{\"outlinewidth\":0,\"ticks\":\"\"}},\"type\":\"scattergl\"}],\"scattermapbox\":[{\"marker\":{\"colorbar\":{\"outlinewidth\":0,\"ticks\":\"\"}},\"type\":\"scattermapbox\"}],\"scatterpolargl\":[{\"marker\":{\"colorbar\":{\"outlinewidth\":0,\"ticks\":\"\"}},\"type\":\"scatterpolargl\"}],\"scatterpolar\":[{\"marker\":{\"colorbar\":{\"outlinewidth\":0,\"ticks\":\"\"}},\"type\":\"scatterpolar\"}],\"scatter\":[{\"fillpattern\":{\"fillmode\":\"overlay\",\"size\":10,\"solidity\":0.2},\"type\":\"scatter\"}],\"scatterternary\":[{\"marker\":{\"colorbar\":{\"outlinewidth\":0,\"ticks\":\"\"}},\"type\":\"scatterternary\"}],\"surface\":[{\"colorbar\":{\"outlinewidth\":0,\"ticks\":\"\"},\"colorscale\":[[0.0,\"#0d0887\"],[0.1111111111111111,\"#46039f\"],[0.2222222222222222,\"#7201a8\"],[0.3333333333333333,\"#9c179e\"],[0.4444444444444444,\"#bd3786\"],[0.5555555555555556,\"#d8576b\"],[0.6666666666666666,\"#ed7953\"],[0.7777777777777778,\"#fb9f3a\"],[0.8888888888888888,\"#fdca26\"],[1.0,\"#f0f921\"]],\"type\":\"surface\"}],\"table\":[{\"cells\":{\"fill\":{\"color\":\"#EBF0F8\"},\"line\":{\"color\":\"white\"}},\"header\":{\"fill\":{\"color\":\"#C8D4E3\"},\"line\":{\"color\":\"white\"}},\"type\":\"table\"}]},\"layout\":{\"annotationdefaults\":{\"arrowcolor\":\"#2a3f5f\",\"arrowhead\":0,\"arrowwidth\":1},\"autotypenumbers\":\"strict\",\"coloraxis\":{\"colorbar\":{\"outlinewidth\":0,\"ticks\":\"\"}},\"colorscale\":{\"diverging\":[[0,\"#8e0152\"],[0.1,\"#c51b7d\"],[0.2,\"#de77ae\"],[0.3,\"#f1b6da\"],[0.4,\"#fde0ef\"],[0.5,\"#f7f7f7\"],[0.6,\"#e6f5d0\"],[0.7,\"#b8e186\"],[0.8,\"#7fbc41\"],[0.9,\"#4d9221\"],[1,\"#276419\"]],\"sequential\":[[0.0,\"#0d0887\"],[0.1111111111111111,\"#46039f\"],[0.2222222222222222,\"#7201a8\"],[0.3333333333333333,\"#9c179e\"],[0.4444444444444444,\"#bd3786\"],[0.5555555555555556,\"#d8576b\"],[0.6666666666666666,\"#ed7953\"],[0.7777777777777778,\"#fb9f3a\"],[0.8888888888888888,\"#fdca26\"],[1.0,\"#f0f921\"]],\"sequentialminus\":[[0.0,\"#0d0887\"],[0.1111111111111111,\"#46039f\"],[0.2222222222222222,\"#7201a8\"],[0.3333333333333333,\"#9c179e\"],[0.4444444444444444,\"#bd3786\"],[0.5555555555555556,\"#d8576b\"],[0.6666666666666666,\"#ed7953\"],[0.7777777777777778,\"#fb9f3a\"],[0.8888888888888888,\"#fdca26\"],[1.0,\"#f0f921\"]]},\"colorway\":[\"#636efa\",\"#EF553B\",\"#00cc96\",\"#ab63fa\",\"#FFA15A\",\"#19d3f3\",\"#FF6692\",\"#B6E880\",\"#FF97FF\",\"#FECB52\"],\"font\":{\"color\":\"#2a3f5f\"},\"geo\":{\"bgcolor\":\"white\",\"lakecolor\":\"white\",\"landcolor\":\"white\",\"showlakes\":true,\"showland\":true,\"subunitcolor\":\"#C8D4E3\"},\"hoverlabel\":{\"align\":\"left\"},\"hovermode\":\"closest\",\"mapbox\":{\"style\":\"light\"},\"paper_bgcolor\":\"white\",\"plot_bgcolor\":\"white\",\"polar\":{\"angularaxis\":{\"gridcolor\":\"#EBF0F8\",\"linecolor\":\"#EBF0F8\",\"ticks\":\"\"},\"bgcolor\":\"white\",\"radialaxis\":{\"gridcolor\":\"#EBF0F8\",\"linecolor\":\"#EBF0F8\",\"ticks\":\"\"}},\"scene\":{\"xaxis\":{\"backgroundcolor\":\"white\",\"gridcolor\":\"#DFE8F3\",\"gridwidth\":2,\"linecolor\":\"#EBF0F8\",\"showbackground\":true,\"ticks\":\"\",\"zerolinecolor\":\"#EBF0F8\"},\"yaxis\":{\"backgroundcolor\":\"white\",\"gridcolor\":\"#DFE8F3\",\"gridwidth\":2,\"linecolor\":\"#EBF0F8\",\"showbackground\":true,\"ticks\":\"\",\"zerolinecolor\":\"#EBF0F8\"},\"zaxis\":{\"backgroundcolor\":\"white\",\"gridcolor\":\"#DFE8F3\",\"gridwidth\":2,\"linecolor\":\"#EBF0F8\",\"showbackground\":true,\"ticks\":\"\",\"zerolinecolor\":\"#EBF0F8\"}},\"shapedefaults\":{\"line\":{\"color\":\"#2a3f5f\"}},\"ternary\":{\"aaxis\":{\"gridcolor\":\"#DFE8F3\",\"linecolor\":\"#A2B1C6\",\"ticks\":\"\"},\"baxis\":{\"gridcolor\":\"#DFE8F3\",\"linecolor\":\"#A2B1C6\",\"ticks\":\"\"},\"bgcolor\":\"white\",\"caxis\":{\"gridcolor\":\"#DFE8F3\",\"linecolor\":\"#A2B1C6\",\"ticks\":\"\"}},\"title\":{\"x\":0.05},\"xaxis\":{\"automargin\":true,\"gridcolor\":\"#EBF0F8\",\"linecolor\":\"#EBF0F8\",\"ticks\":\"\",\"title\":{\"standoff\":15},\"zerolinecolor\":\"#EBF0F8\",\"zerolinewidth\":2},\"yaxis\":{\"automargin\":true,\"gridcolor\":\"#EBF0F8\",\"linecolor\":\"#EBF0F8\",\"ticks\":\"\",\"title\":{\"standoff\":15},\"zerolinecolor\":\"#EBF0F8\",\"zerolinewidth\":2}}},\"title\":{\"font\":{\"size\":22,\"color\":\"Black\"},\"text\":\"<b>Hierarchical Clustering\",\"x\":0.5,\"xanchor\":\"center\",\"yanchor\":\"top\"},\"hoverlabel\":{\"font\":{\"size\":16,\"family\":\"Rockwell\"},\"bgcolor\":\"white\"},\"plot_bgcolor\":\"#ECEFF1\"},                        {\"responsive\": true}                    ).then(function(){\n",
       "                            \n",
       "var gd = document.getElementById('24f59fe9-9281-42f2-927a-6819495e42c4');\n",
       "var x = new MutationObserver(function (mutations, observer) {{\n",
       "        var display = window.getComputedStyle(gd).display;\n",
       "        if (!display || display === 'none') {{\n",
       "            console.log([gd, 'removed!']);\n",
       "            Plotly.purge(gd);\n",
       "            observer.disconnect();\n",
       "        }}\n",
       "}});\n",
       "\n",
       "// Listen for the removal of the full notebook cells\n",
       "var notebookContainer = gd.closest('#notebook-container');\n",
       "if (notebookContainer) {{\n",
       "    x.observe(notebookContainer, {childList: true});\n",
       "}}\n",
       "\n",
       "// Listen for the clearing of the current output cell\n",
       "var outputEl = gd.closest('.output');\n",
       "if (outputEl) {{\n",
       "    x.observe(outputEl, {childList: true});\n",
       "}}\n",
       "\n",
       "                        })                };                });            </script>        </div>"
      ]
     },
     "metadata": {},
     "output_type": "display_data"
    }
   ],
   "source": [
    "topic_model.visualize_hierarchy(hierarchical_topics=hierarchical_topics, width=800)"
   ]
  },
  {
   "cell_type": "code",
   "execution_count": 168,
   "metadata": {},
   "outputs": [],
   "source": [
    "global hierarchical_topics"
   ]
  },
  {
   "cell_type": "code",
   "execution_count": 169,
   "metadata": {},
   "outputs": [
    {
     "data": {
      "text/html": [
       "<div>\n",
       "<style scoped>\n",
       "    .dataframe tbody tr th:only-of-type {\n",
       "        vertical-align: middle;\n",
       "    }\n",
       "\n",
       "    .dataframe tbody tr th {\n",
       "        vertical-align: top;\n",
       "    }\n",
       "\n",
       "    .dataframe thead th {\n",
       "        text-align: right;\n",
       "    }\n",
       "</style>\n",
       "<table border=\"1\" class=\"dataframe\">\n",
       "  <thead>\n",
       "    <tr style=\"text-align: right;\">\n",
       "      <th></th>\n",
       "      <th>Parent_ID</th>\n",
       "      <th>Parent_Name</th>\n",
       "      <th>Topics</th>\n",
       "      <th>Child_Left_ID</th>\n",
       "      <th>Child_Left_Name</th>\n",
       "      <th>Child_Right_ID</th>\n",
       "      <th>Child_Right_Name</th>\n",
       "      <th>Distance</th>\n",
       "    </tr>\n",
       "  </thead>\n",
       "  <tbody>\n",
       "    <tr>\n",
       "      <th>3</th>\n",
       "      <td>8</td>\n",
       "      <td>위해_우리_있는_우크라이나_여러분</td>\n",
       "      <td>[0, 1, 2, 3, 4]</td>\n",
       "      <td>5</td>\n",
       "      <td>우크라이나_러시아_미사일_키이우_드론</td>\n",
       "      <td>7</td>\n",
       "      <td>위해_우리_있는_여러분_위한</td>\n",
       "      <td>1.151412</td>\n",
       "    </tr>\n",
       "    <tr>\n",
       "      <th>2</th>\n",
       "      <td>7</td>\n",
       "      <td>위해_우리_있는_여러분_위한</td>\n",
       "      <td>[0, 1, 2]</td>\n",
       "      <td>6</td>\n",
       "      <td>위해_우리_여러분_있는_위한</td>\n",
       "      <td>2</td>\n",
       "      <td>수출_달러_지난해_수출은_대비</td>\n",
       "      <td>1.128212</td>\n",
       "    </tr>\n",
       "    <tr>\n",
       "      <th>1</th>\n",
       "      <td>6</td>\n",
       "      <td>위해_우리_여러분_있는_위한</td>\n",
       "      <td>[0, 1]</td>\n",
       "      <td>1</td>\n",
       "      <td>모든_있는_그리고_내가_우리</td>\n",
       "      <td>0</td>\n",
       "      <td>위해_여러분_위한_우리_통해</td>\n",
       "      <td>0.826611</td>\n",
       "    </tr>\n",
       "    <tr>\n",
       "      <th>0</th>\n",
       "      <td>5</td>\n",
       "      <td>우크라이나_러시아_미사일_키이우_드론</td>\n",
       "      <td>[3, 4]</td>\n",
       "      <td>4</td>\n",
       "      <td>러시아_국방부는_우크라이나_러시아군_하이마스</td>\n",
       "      <td>3</td>\n",
       "      <td>우크라이나_키이우_드론_미사일_러시아</td>\n",
       "      <td>0.692167</td>\n",
       "    </tr>\n",
       "  </tbody>\n",
       "</table>\n",
       "</div>"
      ],
      "text/plain": [
       "  Parent_ID           Parent_Name           Topics Child_Left_ID  \\\n",
       "3         8    위해_우리_있는_우크라이나_여러분  [0, 1, 2, 3, 4]             5   \n",
       "2         7       위해_우리_있는_여러분_위한        [0, 1, 2]             6   \n",
       "1         6       위해_우리_여러분_있는_위한           [0, 1]             1   \n",
       "0         5  우크라이나_러시아_미사일_키이우_드론           [3, 4]             4   \n",
       "\n",
       "            Child_Left_Name Child_Right_ID      Child_Right_Name  Distance  \n",
       "3      우크라이나_러시아_미사일_키이우_드론              7       위해_우리_있는_여러분_위한  1.151412  \n",
       "2           위해_우리_여러분_있는_위한              2      수출_달러_지난해_수출은_대비  1.128212  \n",
       "1           모든_있는_그리고_내가_우리              0       위해_여러분_위한_우리_통해  0.826611  \n",
       "0  러시아_국방부는_우크라이나_러시아군_하이마스              3  우크라이나_키이우_드론_미사일_러시아  0.692167  "
      ]
     },
     "execution_count": 169,
     "metadata": {},
     "output_type": "execute_result"
    }
   ],
   "source": [
    "hierarchical_topics"
   ]
  },
  {
   "cell_type": "code",
   "execution_count": 177,
   "metadata": {},
   "outputs": [],
   "source": [
    "h_dict = hierarchical_topics.to_dict()\n",
    "h_parent_id = list(h_dict['Parent_ID'].values())\n",
    "h_childl_id = list(h_dict['Child_Left_ID'].values())\n",
    "h_childr_id = list(h_dict['Child_Right_ID'].values())"
   ]
  },
  {
   "cell_type": "code",
   "execution_count": 183,
   "metadata": {},
   "outputs": [
    {
     "name": "stdout",
     "output_type": "stream",
     "text": [
      "['5', '6', '1', '4']\n",
      "['7', '2', '0', '3']\n",
      "['8', '7', '6', '5']\n"
     ]
    }
   ],
   "source": [
    "print(h_childl_id)\n",
    "print(h_childr_id)\n",
    "print(h_parent_id)"
   ]
  },
  {
   "cell_type": "code",
   "execution_count": 184,
   "metadata": {},
   "outputs": [
    {
     "name": "stdout",
     "output_type": "stream",
     "text": [
      "['1', '4', '2', '0', '3']\n"
     ]
    }
   ],
   "source": [
    "unique_id = []\n",
    "\n",
    "for i in h_childl_id:\n",
    "    if i not in h_parent_id:\n",
    "        unique_id.append(i)\n",
    "\n",
    "for i in h_childr_id:\n",
    "    if i not in h_parent_id:\n",
    "        unique_id.append(i)\n",
    "\n",
    "print(unique_id)"
   ]
  },
  {
   "cell_type": "code",
   "execution_count": 162,
   "metadata": {},
   "outputs": [],
   "source": [
    "length_list = []\n",
    "Topic_length_list = []\n",
    "\n",
    "for i in range(len(hierarchical_topics['Topics'])):\n",
    "    length_list.append(len(hierarchical_topics['Topics'][i]))\n",
    "\n",
    "for value in length_list:\n",
    "    if value not in Topic_length_list:\n",
    "        Topic_length_list.append(value)\n",
    "\n",
    "Future_Topic_length_list = Topic_length_list[:]\n",
    "Future_Topic_length_list.remove(min(Future_Topic_length_list))"
   ]
  },
  {
   "cell_type": "code",
   "execution_count": 163,
   "metadata": {},
   "outputs": [],
   "source": [
    "def extract_child(input_df, topic_length, next_topic_length):\n",
    "\n",
    "    global hierarchical_topics\n",
    "\n",
    "    min_list = []\n",
    "    \n",
    "    for i in range(len(input_df)):\n",
    "        a = input_df.loc[i]\n",
    "        if len(a[2]) == topic_length:\n",
    "            min_list.append(a['Parent_ID'])\n",
    "\n",
    "    child_name = \"Child_Name\" + str(topic_length)\n",
    "    child_id = \"Child_ID\" + str(topic_length)\n",
    "    parent_name = \"Child_Name\" + str(next_topic_length)\n",
    "    parent_id = \"Child_ID\" + str(next_topic_length)\n",
    "\n",
    "    b = input_df.loc[input_df[input_df['Parent_ID'].isin(min_list)].index]\n",
    "    hierarchical_topics = input_df.drop(hierarchical_topics[hierarchical_topics['Parent_ID'].isin(min_list)].index).reset_index(drop=True)\n",
    "    b = b.rename(columns={'Parent_Name':parent_name})\n",
    "\n",
    "    right_child = b.loc[:,['Parent_ID',parent_name,'Topics','Child_Right_ID','Child_Right_Name','Distance']]\n",
    "    left_child = b.loc[:,['Parent_ID',parent_name,'Topics','Child_Left_ID','Child_Left_Name','Distance']]\n",
    "\n",
    "    right_child = right_child.rename(columns={'Child_Right_Name':child_name})\n",
    "    right_child = right_child.rename(columns={'Child_Right_ID':child_id})\n",
    "    right_child = right_child.rename(columns={'Parent_ID':parent_id})\n",
    "    left_child = left_child.rename(columns={'Parent_ID':parent_id})\n",
    "    left_child = left_child.rename(columns={'Child_Left_Name':child_name})\n",
    "    left_child = left_child.rename(columns={'Child_Left_ID':child_id})\n",
    "\n",
    "    child_data = pd.concat([right_child,left_child])\n",
    "\n",
    "    child_data = child_data.reset_index(drop=True)\n",
    "\n",
    "    return child_data, parent_id, parent_name"
   ]
  },
  {
   "cell_type": "code",
   "execution_count": 164,
   "metadata": {},
   "outputs": [],
   "source": [
    "for length in range(len(Future_Topic_length_list)):\n",
    "\n",
    "    globals()[\"child_data\" + str(Topic_length_list[length])], globals()[\"parent_id\" + str(Topic_length_list[length])], globals()[\"parent_name\" + str(Topic_length_list[length])] = extract_child(hierarchical_topics, Topic_length_list[length], Future_Topic_length_list[length])\n",
    "\n",
    "right_child = hierarchical_topics.loc[:,['Parent_ID','Parent_Name','Topics','Child_Right_ID','Child_Right_Name','Distance']]\n",
    "left_child = hierarchical_topics.loc[:,['Parent_ID','Parent_Name','Topics','Child_Left_ID','Child_Left_Name','Distance']]\n",
    "\n",
    "right_child = right_child.rename(columns={'Child_Right_Name':(\"Child_Name\" + str(length))})\n",
    "right_child = right_child.rename(columns={'Child_Right_ID':(\"Child_ID\" + str(length))})\n",
    "left_child = left_child.rename(columns={'Child_Left_Name':(\"Child_Name\" + str(length))})\n",
    "left_child = left_child.rename(columns={'Child_Left_ID':(\"Child_ID\" + str(length))})\n",
    "\n",
    "hierarchical_data = pd.concat([right_child,left_child])\n",
    "\n",
    "hierarchical_data = hierarchical_data.reset_index(drop=True)\n"
   ]
  },
  {
   "cell_type": "code",
   "execution_count": 157,
   "metadata": {},
   "outputs": [
    {
     "data": {
      "text/html": [
       "<div>\n",
       "<style scoped>\n",
       "    .dataframe tbody tr th:only-of-type {\n",
       "        vertical-align: middle;\n",
       "    }\n",
       "\n",
       "    .dataframe tbody tr th {\n",
       "        vertical-align: top;\n",
       "    }\n",
       "\n",
       "    .dataframe thead th {\n",
       "        text-align: right;\n",
       "    }\n",
       "</style>\n",
       "<table border=\"1\" class=\"dataframe\">\n",
       "  <thead>\n",
       "    <tr style=\"text-align: right;\">\n",
       "      <th></th>\n",
       "      <th>Child_ID3</th>\n",
       "      <th>Child_Name3</th>\n",
       "      <th>Topics</th>\n",
       "      <th>Child_ID2</th>\n",
       "      <th>Child_Name2</th>\n",
       "      <th>Distance</th>\n",
       "    </tr>\n",
       "  </thead>\n",
       "  <tbody>\n",
       "    <tr>\n",
       "      <th>0</th>\n",
       "      <td>6</td>\n",
       "      <td>위해_우리_여러분_있는_위한</td>\n",
       "      <td>[0, 1]</td>\n",
       "      <td>0</td>\n",
       "      <td>위해_여러분_위한_우리_통해</td>\n",
       "      <td>0.826611</td>\n",
       "    </tr>\n",
       "    <tr>\n",
       "      <th>1</th>\n",
       "      <td>5</td>\n",
       "      <td>우크라이나_러시아_미사일_키이우_드론</td>\n",
       "      <td>[3, 4]</td>\n",
       "      <td>3</td>\n",
       "      <td>우크라이나_키이우_드론_미사일_러시아</td>\n",
       "      <td>0.692167</td>\n",
       "    </tr>\n",
       "    <tr>\n",
       "      <th>2</th>\n",
       "      <td>6</td>\n",
       "      <td>위해_우리_여러분_있는_위한</td>\n",
       "      <td>[0, 1]</td>\n",
       "      <td>1</td>\n",
       "      <td>모든_있는_그리고_내가_우리</td>\n",
       "      <td>0.826611</td>\n",
       "    </tr>\n",
       "    <tr>\n",
       "      <th>3</th>\n",
       "      <td>5</td>\n",
       "      <td>우크라이나_러시아_미사일_키이우_드론</td>\n",
       "      <td>[3, 4]</td>\n",
       "      <td>4</td>\n",
       "      <td>러시아_국방부는_우크라이나_러시아군_하이마스</td>\n",
       "      <td>0.692167</td>\n",
       "    </tr>\n",
       "  </tbody>\n",
       "</table>\n",
       "</div>"
      ],
      "text/plain": [
       "  Child_ID3           Child_Name3  Topics Child_ID2               Child_Name2  \\\n",
       "0         6       위해_우리_여러분_있는_위한  [0, 1]         0           위해_여러분_위한_우리_통해   \n",
       "1         5  우크라이나_러시아_미사일_키이우_드론  [3, 4]         3      우크라이나_키이우_드론_미사일_러시아   \n",
       "2         6       위해_우리_여러분_있는_위한  [0, 1]         1           모든_있는_그리고_내가_우리   \n",
       "3         5  우크라이나_러시아_미사일_키이우_드론  [3, 4]         4  러시아_국방부는_우크라이나_러시아군_하이마스   \n",
       "\n",
       "   Distance  \n",
       "0  0.826611  \n",
       "1  0.692167  \n",
       "2  0.826611  \n",
       "3  0.692167  "
      ]
     },
     "execution_count": 157,
     "metadata": {},
     "output_type": "execute_result"
    }
   ],
   "source": [
    "child_data2"
   ]
  },
  {
   "cell_type": "code",
   "execution_count": 158,
   "metadata": {},
   "outputs": [
    {
     "data": {
      "text/html": [
       "<div>\n",
       "<style scoped>\n",
       "    .dataframe tbody tr th:only-of-type {\n",
       "        vertical-align: middle;\n",
       "    }\n",
       "\n",
       "    .dataframe tbody tr th {\n",
       "        vertical-align: top;\n",
       "    }\n",
       "\n",
       "    .dataframe thead th {\n",
       "        text-align: right;\n",
       "    }\n",
       "</style>\n",
       "<table border=\"1\" class=\"dataframe\">\n",
       "  <thead>\n",
       "    <tr style=\"text-align: right;\">\n",
       "      <th></th>\n",
       "      <th>Child_ID5</th>\n",
       "      <th>Child_Name5</th>\n",
       "      <th>Topics</th>\n",
       "      <th>Child_ID3</th>\n",
       "      <th>Child_Name3</th>\n",
       "      <th>Distance</th>\n",
       "    </tr>\n",
       "  </thead>\n",
       "  <tbody>\n",
       "    <tr>\n",
       "      <th>0</th>\n",
       "      <td>7</td>\n",
       "      <td>위해_우리_있는_여러분_위한</td>\n",
       "      <td>[0, 1, 2]</td>\n",
       "      <td>2</td>\n",
       "      <td>수출_달러_지난해_수출은_대비</td>\n",
       "      <td>1.128212</td>\n",
       "    </tr>\n",
       "    <tr>\n",
       "      <th>1</th>\n",
       "      <td>7</td>\n",
       "      <td>위해_우리_있는_여러분_위한</td>\n",
       "      <td>[0, 1, 2]</td>\n",
       "      <td>6</td>\n",
       "      <td>위해_우리_여러분_있는_위한</td>\n",
       "      <td>1.128212</td>\n",
       "    </tr>\n",
       "  </tbody>\n",
       "</table>\n",
       "</div>"
      ],
      "text/plain": [
       "  Child_ID5      Child_Name5     Topics Child_ID3       Child_Name3  Distance\n",
       "0         7  위해_우리_있는_여러분_위한  [0, 1, 2]         2  수출_달러_지난해_수출은_대비  1.128212\n",
       "1         7  위해_우리_있는_여러분_위한  [0, 1, 2]         6   위해_우리_여러분_있는_위한  1.128212"
      ]
     },
     "execution_count": 158,
     "metadata": {},
     "output_type": "execute_result"
    }
   ],
   "source": [
    "child_data3"
   ]
  },
  {
   "cell_type": "code",
   "execution_count": 156,
   "metadata": {},
   "outputs": [
    {
     "data": {
      "text/html": [
       "<div>\n",
       "<style scoped>\n",
       "    .dataframe tbody tr th:only-of-type {\n",
       "        vertical-align: middle;\n",
       "    }\n",
       "\n",
       "    .dataframe tbody tr th {\n",
       "        vertical-align: top;\n",
       "    }\n",
       "\n",
       "    .dataframe thead th {\n",
       "        text-align: right;\n",
       "    }\n",
       "</style>\n",
       "<table border=\"1\" class=\"dataframe\">\n",
       "  <thead>\n",
       "    <tr style=\"text-align: right;\">\n",
       "      <th></th>\n",
       "      <th>Parent_ID</th>\n",
       "      <th>Parent_Name</th>\n",
       "      <th>Topics</th>\n",
       "      <th>parent_id1</th>\n",
       "      <th>parent_name1</th>\n",
       "      <th>Distance</th>\n",
       "    </tr>\n",
       "  </thead>\n",
       "  <tbody>\n",
       "    <tr>\n",
       "      <th>0</th>\n",
       "      <td>8</td>\n",
       "      <td>위해_우리_있는_우크라이나_여러분</td>\n",
       "      <td>[0, 1, 2, 3, 4]</td>\n",
       "      <td>7</td>\n",
       "      <td>위해_우리_있는_여러분_위한</td>\n",
       "      <td>1.151412</td>\n",
       "    </tr>\n",
       "    <tr>\n",
       "      <th>1</th>\n",
       "      <td>8</td>\n",
       "      <td>위해_우리_있는_우크라이나_여러분</td>\n",
       "      <td>[0, 1, 2, 3, 4]</td>\n",
       "      <td>5</td>\n",
       "      <td>우크라이나_러시아_미사일_키이우_드론</td>\n",
       "      <td>1.151412</td>\n",
       "    </tr>\n",
       "  </tbody>\n",
       "</table>\n",
       "</div>"
      ],
      "text/plain": [
       "  Parent_ID         Parent_Name           Topics parent_id1  \\\n",
       "0         8  위해_우리_있는_우크라이나_여러분  [0, 1, 2, 3, 4]          7   \n",
       "1         8  위해_우리_있는_우크라이나_여러분  [0, 1, 2, 3, 4]          5   \n",
       "\n",
       "           parent_name1  Distance  \n",
       "0       위해_우리_있는_여러분_위한  1.151412  \n",
       "1  우크라이나_러시아_미사일_키이우_드론  1.151412  "
      ]
     },
     "execution_count": 156,
     "metadata": {},
     "output_type": "execute_result"
    }
   ],
   "source": [
    "hierarchical_data"
   ]
  },
  {
   "cell_type": "code",
   "execution_count": null,
   "metadata": {},
   "outputs": [],
   "source": [
    "for a in range(len(parent_data[(\"parent_name\" + str(length))])):\n",
    "    for b in range(len(child_data3[(\"parent_name\" + str(length))])):\n",
    "        if parent_data[(\"parent_name\" + str(length))][a] == child_data3[(\"parent_name\" + str(length))][b]:\n",
    "            hierarchical_data = pd.concat([parent_data,child_data3]).reset_index(drop=True)\n",
    "            hierarchical_data = hierarchical_data.drop(index=a).reset_index(drop=True)\n",
    "            hierarchical_data['Parent_Name'] = hierarchical_data['Parent_Name'][0]\n",
    "            hierarchical_data['Parent_ID'] = hierarchical_data['Parent_ID'][0]\n"
   ]
  },
  {
   "cell_type": "code",
   "execution_count": 126,
   "metadata": {},
   "outputs": [],
   "source": [
    "hierarchical_data = pd.concat([hierarchical_data,child_data2]).reset_index(drop=True)\n",
    "hierarchical_data['Parent_Name'] = hierarchical_data['Parent_Name'][0]\n",
    "hierarchical_data['Parent_ID'] = hierarchical_data['Parent_ID'][0]"
   ]
  },
  {
   "cell_type": "code",
   "execution_count": 127,
   "metadata": {},
   "outputs": [
    {
     "data": {
      "text/html": [
       "<div>\n",
       "<style scoped>\n",
       "    .dataframe tbody tr th:only-of-type {\n",
       "        vertical-align: middle;\n",
       "    }\n",
       "\n",
       "    .dataframe tbody tr th {\n",
       "        vertical-align: top;\n",
       "    }\n",
       "\n",
       "    .dataframe thead th {\n",
       "        text-align: right;\n",
       "    }\n",
       "</style>\n",
       "<table border=\"1\" class=\"dataframe\">\n",
       "  <thead>\n",
       "    <tr style=\"text-align: right;\">\n",
       "      <th></th>\n",
       "      <th>Parent_ID</th>\n",
       "      <th>Parent_Name</th>\n",
       "      <th>Topics</th>\n",
       "      <th>Child_ID5</th>\n",
       "      <th>Child_Name5</th>\n",
       "      <th>Distance</th>\n",
       "      <th>Child_ID3</th>\n",
       "      <th>Child_Name3</th>\n",
       "      <th>Child_ID2</th>\n",
       "      <th>Child_Name2</th>\n",
       "    </tr>\n",
       "  </thead>\n",
       "  <tbody>\n",
       "    <tr>\n",
       "      <th>0</th>\n",
       "      <td>8</td>\n",
       "      <td>위해_우리_있는_우크라이나_여러분</td>\n",
       "      <td>[0, 1, 2, 3, 4]</td>\n",
       "      <td>5</td>\n",
       "      <td>우크라이나_러시아_미사일_키이우_드론</td>\n",
       "      <td>1.151412</td>\n",
       "      <td>NaN</td>\n",
       "      <td>NaN</td>\n",
       "      <td>NaN</td>\n",
       "      <td>NaN</td>\n",
       "    </tr>\n",
       "    <tr>\n",
       "      <th>1</th>\n",
       "      <td>8</td>\n",
       "      <td>위해_우리_있는_우크라이나_여러분</td>\n",
       "      <td>[0, 1, 2]</td>\n",
       "      <td>7</td>\n",
       "      <td>위해_우리_있는_여러분_위한</td>\n",
       "      <td>1.128212</td>\n",
       "      <td>2</td>\n",
       "      <td>수출_달러_지난해_수출은_대비</td>\n",
       "      <td>NaN</td>\n",
       "      <td>NaN</td>\n",
       "    </tr>\n",
       "    <tr>\n",
       "      <th>2</th>\n",
       "      <td>8</td>\n",
       "      <td>위해_우리_있는_우크라이나_여러분</td>\n",
       "      <td>[0, 1, 2]</td>\n",
       "      <td>7</td>\n",
       "      <td>위해_우리_있는_여러분_위한</td>\n",
       "      <td>1.128212</td>\n",
       "      <td>6</td>\n",
       "      <td>위해_우리_여러분_있는_위한</td>\n",
       "      <td>NaN</td>\n",
       "      <td>NaN</td>\n",
       "    </tr>\n",
       "    <tr>\n",
       "      <th>3</th>\n",
       "      <td>8</td>\n",
       "      <td>위해_우리_있는_우크라이나_여러분</td>\n",
       "      <td>[0, 1]</td>\n",
       "      <td>NaN</td>\n",
       "      <td>NaN</td>\n",
       "      <td>0.826611</td>\n",
       "      <td>6</td>\n",
       "      <td>위해_우리_여러분_있는_위한</td>\n",
       "      <td>0</td>\n",
       "      <td>위해_여러분_위한_우리_통해</td>\n",
       "    </tr>\n",
       "    <tr>\n",
       "      <th>4</th>\n",
       "      <td>8</td>\n",
       "      <td>위해_우리_있는_우크라이나_여러분</td>\n",
       "      <td>[3, 4]</td>\n",
       "      <td>NaN</td>\n",
       "      <td>NaN</td>\n",
       "      <td>0.692167</td>\n",
       "      <td>5</td>\n",
       "      <td>우크라이나_러시아_미사일_키이우_드론</td>\n",
       "      <td>3</td>\n",
       "      <td>우크라이나_키이우_드론_미사일_러시아</td>\n",
       "    </tr>\n",
       "    <tr>\n",
       "      <th>5</th>\n",
       "      <td>8</td>\n",
       "      <td>위해_우리_있는_우크라이나_여러분</td>\n",
       "      <td>[0, 1]</td>\n",
       "      <td>NaN</td>\n",
       "      <td>NaN</td>\n",
       "      <td>0.826611</td>\n",
       "      <td>6</td>\n",
       "      <td>위해_우리_여러분_있는_위한</td>\n",
       "      <td>1</td>\n",
       "      <td>모든_있는_그리고_내가_우리</td>\n",
       "    </tr>\n",
       "    <tr>\n",
       "      <th>6</th>\n",
       "      <td>8</td>\n",
       "      <td>위해_우리_있는_우크라이나_여러분</td>\n",
       "      <td>[3, 4]</td>\n",
       "      <td>NaN</td>\n",
       "      <td>NaN</td>\n",
       "      <td>0.692167</td>\n",
       "      <td>5</td>\n",
       "      <td>우크라이나_러시아_미사일_키이우_드론</td>\n",
       "      <td>4</td>\n",
       "      <td>러시아_국방부는_우크라이나_러시아군_하이마스</td>\n",
       "    </tr>\n",
       "  </tbody>\n",
       "</table>\n",
       "</div>"
      ],
      "text/plain": [
       "  Parent_ID         Parent_Name           Topics Child_ID5  \\\n",
       "0         8  위해_우리_있는_우크라이나_여러분  [0, 1, 2, 3, 4]         5   \n",
       "1         8  위해_우리_있는_우크라이나_여러분        [0, 1, 2]         7   \n",
       "2         8  위해_우리_있는_우크라이나_여러분        [0, 1, 2]         7   \n",
       "3         8  위해_우리_있는_우크라이나_여러분           [0, 1]       NaN   \n",
       "4         8  위해_우리_있는_우크라이나_여러분           [3, 4]       NaN   \n",
       "5         8  위해_우리_있는_우크라이나_여러분           [0, 1]       NaN   \n",
       "6         8  위해_우리_있는_우크라이나_여러분           [3, 4]       NaN   \n",
       "\n",
       "            Child_Name5  Distance Child_ID3           Child_Name3 Child_ID2  \\\n",
       "0  우크라이나_러시아_미사일_키이우_드론  1.151412       NaN                   NaN       NaN   \n",
       "1       위해_우리_있는_여러분_위한  1.128212         2      수출_달러_지난해_수출은_대비       NaN   \n",
       "2       위해_우리_있는_여러분_위한  1.128212         6       위해_우리_여러분_있는_위한       NaN   \n",
       "3                   NaN  0.826611         6       위해_우리_여러분_있는_위한         0   \n",
       "4                   NaN  0.692167         5  우크라이나_러시아_미사일_키이우_드론         3   \n",
       "5                   NaN  0.826611         6       위해_우리_여러분_있는_위한         1   \n",
       "6                   NaN  0.692167         5  우크라이나_러시아_미사일_키이우_드론         4   \n",
       "\n",
       "                Child_Name2  \n",
       "0                       NaN  \n",
       "1                       NaN  \n",
       "2                       NaN  \n",
       "3           위해_여러분_위한_우리_통해  \n",
       "4      우크라이나_키이우_드론_미사일_러시아  \n",
       "5           모든_있는_그리고_내가_우리  \n",
       "6  러시아_국방부는_우크라이나_러시아군_하이마스  "
      ]
     },
     "execution_count": 127,
     "metadata": {},
     "output_type": "execute_result"
    }
   ],
   "source": [
    "hierarchical_data"
   ]
  },
  {
   "cell_type": "code",
   "execution_count": 110,
   "metadata": {},
   "outputs": [
    {
     "name": "stdout",
     "output_type": "stream",
     "text": [
      "['2', '6']\n",
      "Int64Index([1, 2, 3, 5], dtype='int64')\n"
     ]
    }
   ],
   "source": [
    "for a in range(len(parent_data[parent_name])):\n",
    "    for b in range(len(child_data3[parent_name])):\n",
    "        if parent_data[parent_name][a] == child_data3[parent_name][b]:\n",
    "            hierarchical_data = pd.concat([parent_data,child_data3]).reset_index(drop=True)\n",
    "            hierarchical_data = hierarchical_data.drop(index=a).reset_index(drop=True)\n",
    "            hierarchical_data['Parent_Name'] = hierarchical_data['Parent_Name'][0]\n",
    "            hierarchical_data['Parent_ID'] = hierarchical_data['Parent_ID'][0]\n",
    "\n",
    "            \n",
    "hierarchical_data = pd.concat([hierarchical_data,child_data2]).reset_index(drop=True)\n",
    "hierarchical_data['Parent_Name'] = hierarchical_data['Parent_Name'][0]\n",
    "hierarchical_data['Parent_ID'] = hierarchical_data['Parent_ID'][0]\n",
    "\n",
    "min_list = []\n",
    "\n",
    "for i in range(len(hierarchical_data)):\n",
    "    a = hierarchical_data.loc[i]\n",
    "    if len(a[2]) == 3:\n",
    "        min_list.append(a[6])\n",
    "print(min_list)\n",
    "index_list = hierarchical_data[hierarchical_data['Child_ID3'].isin(min_list)].index\n",
    "\n",
    "data = hierarchical_data[parent_name][index_list[0]]\n",
    "id =  hierarchical_data[parent_id][index_list[0]]\n",
    "Topic_list = []\n",
    "print(index_list)\n",
    "for i in index_list:\n",
    "    hierarchical_data[parent_name][i] = data\n",
    "    hierarchical_data[parent_id][i] = id\n",
    "    if len(hierarchical_data['Topics'][i]) == 3:\n",
    "        Topic_list.append(hierarchical_data['Topics'][i])\n",
    "\n",
    "#hierarchical_data = hierarchical_data.drop(hierarchical_data[hierarchical_data['Topics'].isin(Topic_list)].index).reset_index(drop=True)"
   ]
  },
  {
   "cell_type": "code",
   "execution_count": null,
   "metadata": {},
   "outputs": [],
   "source": [
    "hierarchical_data.T.duplicated(['Topics'])"
   ]
  },
  {
   "cell_type": "code",
   "execution_count": 112,
   "metadata": {},
   "outputs": [
    {
     "data": {
      "text/html": [
       "<div>\n",
       "<style scoped>\n",
       "    .dataframe tbody tr th:only-of-type {\n",
       "        vertical-align: middle;\n",
       "    }\n",
       "\n",
       "    .dataframe tbody tr th {\n",
       "        vertical-align: top;\n",
       "    }\n",
       "\n",
       "    .dataframe thead th {\n",
       "        text-align: right;\n",
       "    }\n",
       "</style>\n",
       "<table border=\"1\" class=\"dataframe\">\n",
       "  <thead>\n",
       "    <tr style=\"text-align: right;\">\n",
       "      <th></th>\n",
       "      <th>Parent_ID</th>\n",
       "      <th>Parent_Name</th>\n",
       "      <th>Topics</th>\n",
       "      <th>Child_ID5</th>\n",
       "      <th>Child_Name5</th>\n",
       "      <th>Distance</th>\n",
       "      <th>Child_ID3</th>\n",
       "      <th>Child_Name3</th>\n",
       "      <th>Child_ID2</th>\n",
       "      <th>Child_Name2</th>\n",
       "    </tr>\n",
       "  </thead>\n",
       "  <tbody>\n",
       "    <tr>\n",
       "      <th>0</th>\n",
       "      <td>8</td>\n",
       "      <td>위해_우리_있는_우크라이나_여러분</td>\n",
       "      <td>[0, 1, 2, 3, 4]</td>\n",
       "      <td>5</td>\n",
       "      <td>우크라이나_러시아_미사일_키이우_드론</td>\n",
       "      <td>1.151412</td>\n",
       "      <td>NaN</td>\n",
       "      <td>NaN</td>\n",
       "      <td>NaN</td>\n",
       "      <td>NaN</td>\n",
       "    </tr>\n",
       "    <tr>\n",
       "      <th>1</th>\n",
       "      <td>8</td>\n",
       "      <td>위해_우리_있는_우크라이나_여러분</td>\n",
       "      <td>[0, 1, 2]</td>\n",
       "      <td>7</td>\n",
       "      <td>위해_우리_있는_여러분_위한</td>\n",
       "      <td>1.128212</td>\n",
       "      <td>2</td>\n",
       "      <td>수출_달러_지난해_수출은_대비</td>\n",
       "      <td>NaN</td>\n",
       "      <td>NaN</td>\n",
       "    </tr>\n",
       "    <tr>\n",
       "      <th>2</th>\n",
       "      <td>8</td>\n",
       "      <td>위해_우리_있는_우크라이나_여러분</td>\n",
       "      <td>[0, 1, 2]</td>\n",
       "      <td>7</td>\n",
       "      <td>위해_우리_있는_여러분_위한</td>\n",
       "      <td>1.128212</td>\n",
       "      <td>6</td>\n",
       "      <td>위해_우리_여러분_있는_위한</td>\n",
       "      <td>NaN</td>\n",
       "      <td>NaN</td>\n",
       "    </tr>\n",
       "    <tr>\n",
       "      <th>3</th>\n",
       "      <td>8</td>\n",
       "      <td>위해_우리_있는_우크라이나_여러분</td>\n",
       "      <td>[0, 1]</td>\n",
       "      <td>7</td>\n",
       "      <td>위해_우리_있는_여러분_위한</td>\n",
       "      <td>0.826611</td>\n",
       "      <td>6</td>\n",
       "      <td>위해_우리_여러분_있는_위한</td>\n",
       "      <td>0</td>\n",
       "      <td>위해_여러분_위한_우리_통해</td>\n",
       "    </tr>\n",
       "    <tr>\n",
       "      <th>4</th>\n",
       "      <td>8</td>\n",
       "      <td>위해_우리_있는_우크라이나_여러분</td>\n",
       "      <td>[3, 4]</td>\n",
       "      <td>NaN</td>\n",
       "      <td>NaN</td>\n",
       "      <td>0.692167</td>\n",
       "      <td>5</td>\n",
       "      <td>우크라이나_러시아_미사일_키이우_드론</td>\n",
       "      <td>3</td>\n",
       "      <td>우크라이나_키이우_드론_미사일_러시아</td>\n",
       "    </tr>\n",
       "    <tr>\n",
       "      <th>5</th>\n",
       "      <td>8</td>\n",
       "      <td>위해_우리_있는_우크라이나_여러분</td>\n",
       "      <td>[0, 1]</td>\n",
       "      <td>7</td>\n",
       "      <td>위해_우리_있는_여러분_위한</td>\n",
       "      <td>0.826611</td>\n",
       "      <td>6</td>\n",
       "      <td>위해_우리_여러분_있는_위한</td>\n",
       "      <td>1</td>\n",
       "      <td>모든_있는_그리고_내가_우리</td>\n",
       "    </tr>\n",
       "    <tr>\n",
       "      <th>6</th>\n",
       "      <td>8</td>\n",
       "      <td>위해_우리_있는_우크라이나_여러분</td>\n",
       "      <td>[3, 4]</td>\n",
       "      <td>NaN</td>\n",
       "      <td>NaN</td>\n",
       "      <td>0.692167</td>\n",
       "      <td>5</td>\n",
       "      <td>우크라이나_러시아_미사일_키이우_드론</td>\n",
       "      <td>4</td>\n",
       "      <td>러시아_국방부는_우크라이나_러시아군_하이마스</td>\n",
       "    </tr>\n",
       "  </tbody>\n",
       "</table>\n",
       "</div>"
      ],
      "text/plain": [
       "  Parent_ID         Parent_Name           Topics Child_ID5  \\\n",
       "0         8  위해_우리_있는_우크라이나_여러분  [0, 1, 2, 3, 4]         5   \n",
       "1         8  위해_우리_있는_우크라이나_여러분        [0, 1, 2]         7   \n",
       "2         8  위해_우리_있는_우크라이나_여러분        [0, 1, 2]         7   \n",
       "3         8  위해_우리_있는_우크라이나_여러분           [0, 1]         7   \n",
       "4         8  위해_우리_있는_우크라이나_여러분           [3, 4]       NaN   \n",
       "5         8  위해_우리_있는_우크라이나_여러분           [0, 1]         7   \n",
       "6         8  위해_우리_있는_우크라이나_여러분           [3, 4]       NaN   \n",
       "\n",
       "            Child_Name5  Distance Child_ID3           Child_Name3 Child_ID2  \\\n",
       "0  우크라이나_러시아_미사일_키이우_드론  1.151412       NaN                   NaN       NaN   \n",
       "1       위해_우리_있는_여러분_위한  1.128212         2      수출_달러_지난해_수출은_대비       NaN   \n",
       "2       위해_우리_있는_여러분_위한  1.128212         6       위해_우리_여러분_있는_위한       NaN   \n",
       "3       위해_우리_있는_여러분_위한  0.826611         6       위해_우리_여러분_있는_위한         0   \n",
       "4                   NaN  0.692167         5  우크라이나_러시아_미사일_키이우_드론         3   \n",
       "5       위해_우리_있는_여러분_위한  0.826611         6       위해_우리_여러분_있는_위한         1   \n",
       "6                   NaN  0.692167         5  우크라이나_러시아_미사일_키이우_드론         4   \n",
       "\n",
       "                Child_Name2  \n",
       "0                       NaN  \n",
       "1                       NaN  \n",
       "2                       NaN  \n",
       "3           위해_여러분_위한_우리_통해  \n",
       "4      우크라이나_키이우_드론_미사일_러시아  \n",
       "5           모든_있는_그리고_내가_우리  \n",
       "6  러시아_국방부는_우크라이나_러시아군_하이마스  "
      ]
     },
     "execution_count": 112,
     "metadata": {},
     "output_type": "execute_result"
    }
   ],
   "source": [
    "hierarchical_data"
   ]
  },
  {
   "cell_type": "code",
   "execution_count": null,
   "metadata": {},
   "outputs": [],
   "source": [
    "for a in range(len(parent_data[parent_name])):\n",
    "    for b in range(len(child_data3[parent_name])):\n",
    "        if parent_data[parent_name][a] == child_data3[parent_name][b]:\n",
    "            parent_data2 = pd.concat([parent_data,child_data3]).reset_index(drop=True)\n",
    "            parent_data2 = parent_data2.drop(index=a).reset_index(drop=True)\n",
    "            parent_data2['Parent_Name'] = parent_data2['Parent_Name'][0]\n",
    "            parent_data2['Parent_ID'] = parent_data2['Parent_ID'][0]\n",
    "            \n",
    "parent_data2 = pd.concat([parent_data2,child_data2]).reset_index(drop=True)\n",
    "parent_data2['Parent_Name'] = parent_data2['Parent_Name'][0]\n",
    "parent_data2['Parent_ID'] = parent_data2['Parent_ID'][0]\n",
    "\n",
    "min_list = []\n",
    "\n",
    "for i in range(len(parent_data2)):\n",
    "    a = parent_data2.loc[i]\n",
    "    if len(a[2]) == 4:\n",
    "        min_list.append(a[6])\n",
    "        \n",
    "index_list = parent_data2[parent_data2['Child_ID4'].isin(min_list)].index\n",
    "\n",
    "data = parent_data2['Child_Name5'][index_list[0]]\n",
    "id =  parent_data2['Child_ID5'][index_list[0]]\n",
    "Topic_list = []\n",
    "\n",
    "for i in index_list:\n",
    "    parent_data2['Child_Name5'][i] = data\n",
    "    parent_data2['Child_ID5'][i] = id\n",
    "    if len(parent_data2['Topics'][i]) == 4:\n",
    "        Topic_list.append(parent_data2['Topics'][i])\n",
    "\n",
    "parent_data2 = parent_data2.drop(parent_data2[parent_data2['Topics'].isin(Topic_list)].index).reset_index(drop=True)"
   ]
  },
  {
   "cell_type": "code",
   "execution_count": 266,
   "metadata": {},
   "outputs": [],
   "source": [
    "for a in range(len(parent_data['Child_Name5'])):\n",
    "    for b in range(len(child_data_2['Child_Name5'])):\n",
    "        if parent_data['Child_Name5'][a] == child_data_2['Child_Name5'][b]:\n",
    "            parent_data2 = pd.concat([parent_data,child_data_2]).reset_index(drop=True)\n",
    "            parent_data2 = parent_data2.drop(index=a).reset_index(drop=True)\n",
    "            parent_data2['Parent_Name'] = parent_data2['Parent_Name'][0]\n",
    "            parent_data2['Parent_ID'] = parent_data2['Parent_ID'][0]\n",
    "            \n",
    "parent_data2 = pd.concat([parent_data2,child_data]).reset_index(drop=True)\n",
    "parent_data2['Parent_Name'] = parent_data2['Parent_Name'][0]\n",
    "parent_data2['Parent_ID'] = parent_data2['Parent_ID'][0]\n",
    "\n",
    "min_list = []\n",
    "\n",
    "for i in range(len(parent_data2)):\n",
    "    a = parent_data2.loc[i]\n",
    "    if len(a[2]) == 4:\n",
    "        min_list.append(a[6])\n",
    "        \n",
    "index_list = parent_data2[parent_data2['Child_ID4'].isin(min_list)].index\n",
    "\n",
    "data = parent_data2['Child_Name5'][index_list[0]]\n",
    "id =  parent_data2['Child_ID5'][index_list[0]]\n",
    "Topic_list = []\n",
    "\n",
    "for i in index_list:\n",
    "    parent_data2['Child_Name5'][i] = data\n",
    "    parent_data2['Child_ID5'][i] = id\n",
    "    if len(parent_data2['Topics'][i]) == 4:\n",
    "        Topic_list.append(parent_data2['Topics'][i])\n",
    "\n",
    "parent_data2 = parent_data2.drop(parent_data2[parent_data2['Topics'].isin(Topic_list)].index).reset_index(drop=True)"
   ]
  },
  {
   "cell_type": "code",
   "execution_count": 273,
   "metadata": {},
   "outputs": [
    {
     "data": {
      "text/html": [
       "<div>\n",
       "<style scoped>\n",
       "    .dataframe tbody tr th:only-of-type {\n",
       "        vertical-align: middle;\n",
       "    }\n",
       "\n",
       "    .dataframe tbody tr th {\n",
       "        vertical-align: top;\n",
       "    }\n",
       "\n",
       "    .dataframe thead th {\n",
       "        text-align: right;\n",
       "    }\n",
       "</style>\n",
       "<table border=\"1\" class=\"dataframe\">\n",
       "  <thead>\n",
       "    <tr style=\"text-align: right;\">\n",
       "      <th></th>\n",
       "      <th>Parent_ID</th>\n",
       "      <th>Parent_Name</th>\n",
       "      <th>Topics</th>\n",
       "      <th>Child_ID5</th>\n",
       "      <th>Child_Name5</th>\n",
       "      <th>Distance</th>\n",
       "      <th>Child_ID4</th>\n",
       "      <th>Child_Name4</th>\n",
       "      <th>Child_ID</th>\n",
       "      <th>Child_Name</th>\n",
       "    </tr>\n",
       "  </thead>\n",
       "  <tbody>\n",
       "    <tr>\n",
       "      <th>0</th>\n",
       "      <td>8</td>\n",
       "      <td>우크라이나_위해_우리_있는_여러분</td>\n",
       "      <td>[0, 1, 2, 3, 4]</td>\n",
       "      <td>0</td>\n",
       "      <td>위해_여러분_우리_위한_시민</td>\n",
       "      <td>0.940946</td>\n",
       "      <td>NaN</td>\n",
       "      <td>NaN</td>\n",
       "      <td>NaN</td>\n",
       "      <td>NaN</td>\n",
       "    </tr>\n",
       "    <tr>\n",
       "      <th>1</th>\n",
       "      <td>8</td>\n",
       "      <td>우크라이나_위해_우리_있는_여러분</td>\n",
       "      <td>[2, 3]</td>\n",
       "      <td>7</td>\n",
       "      <td>우크라이나_러시아_있다_미사일_키이우</td>\n",
       "      <td>0.865585</td>\n",
       "      <td>6</td>\n",
       "      <td>모든_있는_내가_하나님의_그리고</td>\n",
       "      <td>2</td>\n",
       "      <td>우크라이나_러시아_전쟁_러뽕_그냥</td>\n",
       "    </tr>\n",
       "    <tr>\n",
       "      <th>2</th>\n",
       "      <td>8</td>\n",
       "      <td>우크라이나_위해_우리_있는_여러분</td>\n",
       "      <td>[1, 4]</td>\n",
       "      <td>7</td>\n",
       "      <td>우크라이나_러시아_있다_미사일_키이우</td>\n",
       "      <td>0.578441</td>\n",
       "      <td>5</td>\n",
       "      <td>우크라이나_러시아_미사일_있다_키이우</td>\n",
       "      <td>4</td>\n",
       "      <td>러시아_우크라이나_러시아군_국방부는_하이마스</td>\n",
       "    </tr>\n",
       "    <tr>\n",
       "      <th>3</th>\n",
       "      <td>8</td>\n",
       "      <td>우크라이나_위해_우리_있는_여러분</td>\n",
       "      <td>[2, 3]</td>\n",
       "      <td>7</td>\n",
       "      <td>우크라이나_러시아_있다_미사일_키이우</td>\n",
       "      <td>0.865585</td>\n",
       "      <td>6</td>\n",
       "      <td>모든_있는_내가_하나님의_그리고</td>\n",
       "      <td>3</td>\n",
       "      <td>모든_내가_있는_하나님의_그리고</td>\n",
       "    </tr>\n",
       "    <tr>\n",
       "      <th>4</th>\n",
       "      <td>8</td>\n",
       "      <td>우크라이나_위해_우리_있는_여러분</td>\n",
       "      <td>[1, 4]</td>\n",
       "      <td>7</td>\n",
       "      <td>우크라이나_러시아_있다_미사일_키이우</td>\n",
       "      <td>0.578441</td>\n",
       "      <td>5</td>\n",
       "      <td>우크라이나_러시아_미사일_있다_키이우</td>\n",
       "      <td>1</td>\n",
       "      <td>우크라이나_미사일_키이우_러시아_벨라루스</td>\n",
       "    </tr>\n",
       "  </tbody>\n",
       "</table>\n",
       "</div>"
      ],
      "text/plain": [
       "  Parent_ID         Parent_Name           Topics Child_ID5  \\\n",
       "0         8  우크라이나_위해_우리_있는_여러분  [0, 1, 2, 3, 4]         0   \n",
       "1         8  우크라이나_위해_우리_있는_여러분           [2, 3]         7   \n",
       "2         8  우크라이나_위해_우리_있는_여러분           [1, 4]         7   \n",
       "3         8  우크라이나_위해_우리_있는_여러분           [2, 3]         7   \n",
       "4         8  우크라이나_위해_우리_있는_여러분           [1, 4]         7   \n",
       "\n",
       "            Child_Name5  Distance Child_ID4           Child_Name4 Child_ID  \\\n",
       "0       위해_여러분_우리_위한_시민  0.940946       NaN                   NaN      NaN   \n",
       "1  우크라이나_러시아_있다_미사일_키이우  0.865585         6     모든_있는_내가_하나님의_그리고        2   \n",
       "2  우크라이나_러시아_있다_미사일_키이우  0.578441         5  우크라이나_러시아_미사일_있다_키이우        4   \n",
       "3  우크라이나_러시아_있다_미사일_키이우  0.865585         6     모든_있는_내가_하나님의_그리고        3   \n",
       "4  우크라이나_러시아_있다_미사일_키이우  0.578441         5  우크라이나_러시아_미사일_있다_키이우        1   \n",
       "\n",
       "                 Child_Name  \n",
       "0                       NaN  \n",
       "1        우크라이나_러시아_전쟁_러뽕_그냥  \n",
       "2  러시아_우크라이나_러시아군_국방부는_하이마스  \n",
       "3         모든_내가_있는_하나님의_그리고  \n",
       "4    우크라이나_미사일_키이우_러시아_벨라루스  "
      ]
     },
     "execution_count": 273,
     "metadata": {},
     "output_type": "execute_result"
    }
   ],
   "source": [
    "parent_data2"
   ]
  },
  {
   "cell_type": "code",
   "execution_count": 276,
   "metadata": {},
   "outputs": [
    {
     "data": {
      "application/vnd.plotly.v1+json": {
       "config": {
        "plotlyServerURL": "https://plot.ly"
       },
       "data": [
        {
         "branchvalues": "total",
         "customdata": [
          [
           0.5784407100871232
          ],
          [
           0.8655849289071627
          ],
          [
           0.8655849289071627
          ],
          [
           0.5784407100871232
          ],
          [
           0.8655849289071627
          ],
          [
           0.5784407100871232
          ],
          [
           0.7505621056646639
          ],
          [
           0.9409463701226608
          ],
          [
           0.7973475568541135
          ],
          [
           0.7973475568541135
          ]
         ],
         "domain": {
          "x": [
           0,
           1
          ],
          "y": [
           0,
           1
          ]
         },
         "hovertemplate": "labels=%{label}<br>Distance_sum=%{value}<br>parent=%{parent}<br>id=%{id}<br>Distance=%{color}<extra></extra>",
         "ids": [
          "topic/우크라이나_위해_우리_있는_여러분/우크라이나_러시아_있다_미사일_키이우/우크라이나_러시아_미사일_있다_키이우/러시아_우크라이나_러시아군_국방부는_하이마스",
          "topic/우크라이나_위해_우리_있는_여러분/우크라이나_러시아_있다_미사일_키이우/모든_있는_내가_하나님의_그리고/모든_내가_있는_하나님의_그리고",
          "topic/우크라이나_위해_우리_있는_여러분/우크라이나_러시아_있다_미사일_키이우/모든_있는_내가_하나님의_그리고/우크라이나_러시아_전쟁_러뽕_그냥",
          "topic/우크라이나_위해_우리_있는_여러분/우크라이나_러시아_있다_미사일_키이우/우크라이나_러시아_미사일_있다_키이우/우크라이나_미사일_키이우_러시아_벨라루스",
          "topic/우크라이나_위해_우리_있는_여러분/우크라이나_러시아_있다_미사일_키이우/모든_있는_내가_하나님의_그리고",
          "topic/우크라이나_위해_우리_있는_여러분/우크라이나_러시아_있다_미사일_키이우/우크라이나_러시아_미사일_있다_키이우",
          "topic/우크라이나_위해_우리_있는_여러분/우크라이나_러시아_있다_미사일_키이우",
          "topic/우크라이나_위해_우리_있는_여러분/위해_여러분_우리_위한_시민",
          "topic/우크라이나_위해_우리_있는_여러분",
          "topic"
         ],
         "labels": [
          "러시아_우크라이나_러시아군_국방부는_하이마스",
          "모든_내가_있는_하나님의_그리고",
          "우크라이나_러시아_전쟁_러뽕_그냥",
          "우크라이나_미사일_키이우_러시아_벨라루스",
          "모든_있는_내가_하나님의_그리고",
          "우크라이나_러시아_미사일_있다_키이우",
          "우크라이나_러시아_있다_미사일_키이우",
          "위해_여러분_우리_위한_시민",
          "우크라이나_위해_우리_있는_여러분",
          "topic"
         ],
         "marker": {
          "coloraxis": "coloraxis",
          "colors": [
           0.5784407100871232,
           0.8655849289071627,
           0.8655849289071627,
           0.5784407100871232,
           0.8655849289071627,
           0.5784407100871232,
           0.7505621056646639,
           0.9409463701226608,
           0.7973475568541135,
           0.7973475568541135
          ]
         },
         "name": "",
         "parents": [
          "topic/우크라이나_위해_우리_있는_여러분/우크라이나_러시아_있다_미사일_키이우/우크라이나_러시아_미사일_있다_키이우",
          "topic/우크라이나_위해_우리_있는_여러분/우크라이나_러시아_있다_미사일_키이우/모든_있는_내가_하나님의_그리고",
          "topic/우크라이나_위해_우리_있는_여러분/우크라이나_러시아_있다_미사일_키이우/모든_있는_내가_하나님의_그리고",
          "topic/우크라이나_위해_우리_있는_여러분/우크라이나_러시아_있다_미사일_키이우/우크라이나_러시아_미사일_있다_키이우",
          "topic/우크라이나_위해_우리_있는_여러분/우크라이나_러시아_있다_미사일_키이우",
          "topic/우크라이나_위해_우리_있는_여러분/우크라이나_러시아_있다_미사일_키이우",
          "topic/우크라이나_위해_우리_있는_여러분",
          "topic/우크라이나_위해_우리_있는_여러분",
          "topic",
          ""
         ],
         "root": {
          "color": "lightgrey"
         },
         "type": "treemap",
         "values": [
          0.5784407100871232,
          0.8655849289071625,
          0.8655849289071625,
          0.5784407100871232,
          1.731169857814325,
          1.1568814201742463,
          2.8880512779885716,
          0.9409463701226608,
          3.8289976481112324,
          3.8289976481112324
         ]
        }
       ],
       "layout": {
        "coloraxis": {
         "colorbar": {
          "title": {
           "text": "Distance"
          }
         },
         "colorscale": [
          [
           0,
           "rgb(103,0,31)"
          ],
          [
           0.1,
           "rgb(178,24,43)"
          ],
          [
           0.2,
           "rgb(214,96,77)"
          ],
          [
           0.3,
           "rgb(244,165,130)"
          ],
          [
           0.4,
           "rgb(253,219,199)"
          ],
          [
           0.5,
           "rgb(247,247,247)"
          ],
          [
           0.6,
           "rgb(209,229,240)"
          ],
          [
           0.7,
           "rgb(146,197,222)"
          ],
          [
           0.8,
           "rgb(67,147,195)"
          ],
          [
           0.9,
           "rgb(33,102,172)"
          ],
          [
           1,
           "rgb(5,48,97)"
          ]
         ]
        },
        "legend": {
         "tracegroupgap": 0
        },
        "margin": {
         "b": 25,
         "l": 25,
         "r": 25,
         "t": 50
        },
        "template": {
         "data": {
          "bar": [
           {
            "error_x": {
             "color": "#2a3f5f"
            },
            "error_y": {
             "color": "#2a3f5f"
            },
            "marker": {
             "line": {
              "color": "#E5ECF6",
              "width": 0.5
             },
             "pattern": {
              "fillmode": "overlay",
              "size": 10,
              "solidity": 0.2
             }
            },
            "type": "bar"
           }
          ],
          "barpolar": [
           {
            "marker": {
             "line": {
              "color": "#E5ECF6",
              "width": 0.5
             },
             "pattern": {
              "fillmode": "overlay",
              "size": 10,
              "solidity": 0.2
             }
            },
            "type": "barpolar"
           }
          ],
          "carpet": [
           {
            "aaxis": {
             "endlinecolor": "#2a3f5f",
             "gridcolor": "white",
             "linecolor": "white",
             "minorgridcolor": "white",
             "startlinecolor": "#2a3f5f"
            },
            "baxis": {
             "endlinecolor": "#2a3f5f",
             "gridcolor": "white",
             "linecolor": "white",
             "minorgridcolor": "white",
             "startlinecolor": "#2a3f5f"
            },
            "type": "carpet"
           }
          ],
          "choropleth": [
           {
            "colorbar": {
             "outlinewidth": 0,
             "ticks": ""
            },
            "type": "choropleth"
           }
          ],
          "contour": [
           {
            "colorbar": {
             "outlinewidth": 0,
             "ticks": ""
            },
            "colorscale": [
             [
              0,
              "#0d0887"
             ],
             [
              0.1111111111111111,
              "#46039f"
             ],
             [
              0.2222222222222222,
              "#7201a8"
             ],
             [
              0.3333333333333333,
              "#9c179e"
             ],
             [
              0.4444444444444444,
              "#bd3786"
             ],
             [
              0.5555555555555556,
              "#d8576b"
             ],
             [
              0.6666666666666666,
              "#ed7953"
             ],
             [
              0.7777777777777778,
              "#fb9f3a"
             ],
             [
              0.8888888888888888,
              "#fdca26"
             ],
             [
              1,
              "#f0f921"
             ]
            ],
            "type": "contour"
           }
          ],
          "contourcarpet": [
           {
            "colorbar": {
             "outlinewidth": 0,
             "ticks": ""
            },
            "type": "contourcarpet"
           }
          ],
          "heatmap": [
           {
            "colorbar": {
             "outlinewidth": 0,
             "ticks": ""
            },
            "colorscale": [
             [
              0,
              "#0d0887"
             ],
             [
              0.1111111111111111,
              "#46039f"
             ],
             [
              0.2222222222222222,
              "#7201a8"
             ],
             [
              0.3333333333333333,
              "#9c179e"
             ],
             [
              0.4444444444444444,
              "#bd3786"
             ],
             [
              0.5555555555555556,
              "#d8576b"
             ],
             [
              0.6666666666666666,
              "#ed7953"
             ],
             [
              0.7777777777777778,
              "#fb9f3a"
             ],
             [
              0.8888888888888888,
              "#fdca26"
             ],
             [
              1,
              "#f0f921"
             ]
            ],
            "type": "heatmap"
           }
          ],
          "heatmapgl": [
           {
            "colorbar": {
             "outlinewidth": 0,
             "ticks": ""
            },
            "colorscale": [
             [
              0,
              "#0d0887"
             ],
             [
              0.1111111111111111,
              "#46039f"
             ],
             [
              0.2222222222222222,
              "#7201a8"
             ],
             [
              0.3333333333333333,
              "#9c179e"
             ],
             [
              0.4444444444444444,
              "#bd3786"
             ],
             [
              0.5555555555555556,
              "#d8576b"
             ],
             [
              0.6666666666666666,
              "#ed7953"
             ],
             [
              0.7777777777777778,
              "#fb9f3a"
             ],
             [
              0.8888888888888888,
              "#fdca26"
             ],
             [
              1,
              "#f0f921"
             ]
            ],
            "type": "heatmapgl"
           }
          ],
          "histogram": [
           {
            "marker": {
             "pattern": {
              "fillmode": "overlay",
              "size": 10,
              "solidity": 0.2
             }
            },
            "type": "histogram"
           }
          ],
          "histogram2d": [
           {
            "colorbar": {
             "outlinewidth": 0,
             "ticks": ""
            },
            "colorscale": [
             [
              0,
              "#0d0887"
             ],
             [
              0.1111111111111111,
              "#46039f"
             ],
             [
              0.2222222222222222,
              "#7201a8"
             ],
             [
              0.3333333333333333,
              "#9c179e"
             ],
             [
              0.4444444444444444,
              "#bd3786"
             ],
             [
              0.5555555555555556,
              "#d8576b"
             ],
             [
              0.6666666666666666,
              "#ed7953"
             ],
             [
              0.7777777777777778,
              "#fb9f3a"
             ],
             [
              0.8888888888888888,
              "#fdca26"
             ],
             [
              1,
              "#f0f921"
             ]
            ],
            "type": "histogram2d"
           }
          ],
          "histogram2dcontour": [
           {
            "colorbar": {
             "outlinewidth": 0,
             "ticks": ""
            },
            "colorscale": [
             [
              0,
              "#0d0887"
             ],
             [
              0.1111111111111111,
              "#46039f"
             ],
             [
              0.2222222222222222,
              "#7201a8"
             ],
             [
              0.3333333333333333,
              "#9c179e"
             ],
             [
              0.4444444444444444,
              "#bd3786"
             ],
             [
              0.5555555555555556,
              "#d8576b"
             ],
             [
              0.6666666666666666,
              "#ed7953"
             ],
             [
              0.7777777777777778,
              "#fb9f3a"
             ],
             [
              0.8888888888888888,
              "#fdca26"
             ],
             [
              1,
              "#f0f921"
             ]
            ],
            "type": "histogram2dcontour"
           }
          ],
          "mesh3d": [
           {
            "colorbar": {
             "outlinewidth": 0,
             "ticks": ""
            },
            "type": "mesh3d"
           }
          ],
          "parcoords": [
           {
            "line": {
             "colorbar": {
              "outlinewidth": 0,
              "ticks": ""
             }
            },
            "type": "parcoords"
           }
          ],
          "pie": [
           {
            "automargin": true,
            "type": "pie"
           }
          ],
          "scatter": [
           {
            "fillpattern": {
             "fillmode": "overlay",
             "size": 10,
             "solidity": 0.2
            },
            "type": "scatter"
           }
          ],
          "scatter3d": [
           {
            "line": {
             "colorbar": {
              "outlinewidth": 0,
              "ticks": ""
             }
            },
            "marker": {
             "colorbar": {
              "outlinewidth": 0,
              "ticks": ""
             }
            },
            "type": "scatter3d"
           }
          ],
          "scattercarpet": [
           {
            "marker": {
             "colorbar": {
              "outlinewidth": 0,
              "ticks": ""
             }
            },
            "type": "scattercarpet"
           }
          ],
          "scattergeo": [
           {
            "marker": {
             "colorbar": {
              "outlinewidth": 0,
              "ticks": ""
             }
            },
            "type": "scattergeo"
           }
          ],
          "scattergl": [
           {
            "marker": {
             "colorbar": {
              "outlinewidth": 0,
              "ticks": ""
             }
            },
            "type": "scattergl"
           }
          ],
          "scattermapbox": [
           {
            "marker": {
             "colorbar": {
              "outlinewidth": 0,
              "ticks": ""
             }
            },
            "type": "scattermapbox"
           }
          ],
          "scatterpolar": [
           {
            "marker": {
             "colorbar": {
              "outlinewidth": 0,
              "ticks": ""
             }
            },
            "type": "scatterpolar"
           }
          ],
          "scatterpolargl": [
           {
            "marker": {
             "colorbar": {
              "outlinewidth": 0,
              "ticks": ""
             }
            },
            "type": "scatterpolargl"
           }
          ],
          "scatterternary": [
           {
            "marker": {
             "colorbar": {
              "outlinewidth": 0,
              "ticks": ""
             }
            },
            "type": "scatterternary"
           }
          ],
          "surface": [
           {
            "colorbar": {
             "outlinewidth": 0,
             "ticks": ""
            },
            "colorscale": [
             [
              0,
              "#0d0887"
             ],
             [
              0.1111111111111111,
              "#46039f"
             ],
             [
              0.2222222222222222,
              "#7201a8"
             ],
             [
              0.3333333333333333,
              "#9c179e"
             ],
             [
              0.4444444444444444,
              "#bd3786"
             ],
             [
              0.5555555555555556,
              "#d8576b"
             ],
             [
              0.6666666666666666,
              "#ed7953"
             ],
             [
              0.7777777777777778,
              "#fb9f3a"
             ],
             [
              0.8888888888888888,
              "#fdca26"
             ],
             [
              1,
              "#f0f921"
             ]
            ],
            "type": "surface"
           }
          ],
          "table": [
           {
            "cells": {
             "fill": {
              "color": "#EBF0F8"
             },
             "line": {
              "color": "white"
             }
            },
            "header": {
             "fill": {
              "color": "#C8D4E3"
             },
             "line": {
              "color": "white"
             }
            },
            "type": "table"
           }
          ]
         },
         "layout": {
          "annotationdefaults": {
           "arrowcolor": "#2a3f5f",
           "arrowhead": 0,
           "arrowwidth": 1
          },
          "autotypenumbers": "strict",
          "coloraxis": {
           "colorbar": {
            "outlinewidth": 0,
            "ticks": ""
           }
          },
          "colorscale": {
           "diverging": [
            [
             0,
             "#8e0152"
            ],
            [
             0.1,
             "#c51b7d"
            ],
            [
             0.2,
             "#de77ae"
            ],
            [
             0.3,
             "#f1b6da"
            ],
            [
             0.4,
             "#fde0ef"
            ],
            [
             0.5,
             "#f7f7f7"
            ],
            [
             0.6,
             "#e6f5d0"
            ],
            [
             0.7,
             "#b8e186"
            ],
            [
             0.8,
             "#7fbc41"
            ],
            [
             0.9,
             "#4d9221"
            ],
            [
             1,
             "#276419"
            ]
           ],
           "sequential": [
            [
             0,
             "#0d0887"
            ],
            [
             0.1111111111111111,
             "#46039f"
            ],
            [
             0.2222222222222222,
             "#7201a8"
            ],
            [
             0.3333333333333333,
             "#9c179e"
            ],
            [
             0.4444444444444444,
             "#bd3786"
            ],
            [
             0.5555555555555556,
             "#d8576b"
            ],
            [
             0.6666666666666666,
             "#ed7953"
            ],
            [
             0.7777777777777778,
             "#fb9f3a"
            ],
            [
             0.8888888888888888,
             "#fdca26"
            ],
            [
             1,
             "#f0f921"
            ]
           ],
           "sequentialminus": [
            [
             0,
             "#0d0887"
            ],
            [
             0.1111111111111111,
             "#46039f"
            ],
            [
             0.2222222222222222,
             "#7201a8"
            ],
            [
             0.3333333333333333,
             "#9c179e"
            ],
            [
             0.4444444444444444,
             "#bd3786"
            ],
            [
             0.5555555555555556,
             "#d8576b"
            ],
            [
             0.6666666666666666,
             "#ed7953"
            ],
            [
             0.7777777777777778,
             "#fb9f3a"
            ],
            [
             0.8888888888888888,
             "#fdca26"
            ],
            [
             1,
             "#f0f921"
            ]
           ]
          },
          "colorway": [
           "#636efa",
           "#EF553B",
           "#00cc96",
           "#ab63fa",
           "#FFA15A",
           "#19d3f3",
           "#FF6692",
           "#B6E880",
           "#FF97FF",
           "#FECB52"
          ],
          "font": {
           "color": "#2a3f5f"
          },
          "geo": {
           "bgcolor": "white",
           "lakecolor": "white",
           "landcolor": "#E5ECF6",
           "showlakes": true,
           "showland": true,
           "subunitcolor": "white"
          },
          "hoverlabel": {
           "align": "left"
          },
          "hovermode": "closest",
          "mapbox": {
           "style": "light"
          },
          "paper_bgcolor": "white",
          "plot_bgcolor": "#E5ECF6",
          "polar": {
           "angularaxis": {
            "gridcolor": "white",
            "linecolor": "white",
            "ticks": ""
           },
           "bgcolor": "#E5ECF6",
           "radialaxis": {
            "gridcolor": "white",
            "linecolor": "white",
            "ticks": ""
           }
          },
          "scene": {
           "xaxis": {
            "backgroundcolor": "#E5ECF6",
            "gridcolor": "white",
            "gridwidth": 2,
            "linecolor": "white",
            "showbackground": true,
            "ticks": "",
            "zerolinecolor": "white"
           },
           "yaxis": {
            "backgroundcolor": "#E5ECF6",
            "gridcolor": "white",
            "gridwidth": 2,
            "linecolor": "white",
            "showbackground": true,
            "ticks": "",
            "zerolinecolor": "white"
           },
           "zaxis": {
            "backgroundcolor": "#E5ECF6",
            "gridcolor": "white",
            "gridwidth": 2,
            "linecolor": "white",
            "showbackground": true,
            "ticks": "",
            "zerolinecolor": "white"
           }
          },
          "shapedefaults": {
           "line": {
            "color": "#2a3f5f"
           }
          },
          "ternary": {
           "aaxis": {
            "gridcolor": "white",
            "linecolor": "white",
            "ticks": ""
           },
           "baxis": {
            "gridcolor": "white",
            "linecolor": "white",
            "ticks": ""
           },
           "bgcolor": "#E5ECF6",
           "caxis": {
            "gridcolor": "white",
            "linecolor": "white",
            "ticks": ""
           }
          },
          "title": {
           "x": 0.05
          },
          "xaxis": {
           "automargin": true,
           "gridcolor": "white",
           "linecolor": "white",
           "ticks": "",
           "title": {
            "standoff": 15
           },
           "zerolinecolor": "white",
           "zerolinewidth": 2
          },
          "yaxis": {
           "automargin": true,
           "gridcolor": "white",
           "linecolor": "white",
           "ticks": "",
           "title": {
            "standoff": 15
           },
           "zerolinecolor": "white",
           "zerolinewidth": 2
          }
         }
        }
       }
      },
      "text/html": [
       "<div>                            <div id=\"9e28c50f-6181-458c-bb36-8517635368bc\" class=\"plotly-graph-div\" style=\"height:525px; width:100%;\"></div>            <script type=\"text/javascript\">                require([\"plotly\"], function(Plotly) {                    window.PLOTLYENV=window.PLOTLYENV || {};                                    if (document.getElementById(\"9e28c50f-6181-458c-bb36-8517635368bc\")) {                    Plotly.newPlot(                        \"9e28c50f-6181-458c-bb36-8517635368bc\",                        [{\"branchvalues\":\"total\",\"customdata\":[[0.5784407100871232],[0.8655849289071627],[0.8655849289071627],[0.5784407100871232],[0.8655849289071627],[0.5784407100871232],[0.7505621056646639],[0.9409463701226608],[0.7973475568541135],[0.7973475568541135]],\"domain\":{\"x\":[0.0,1.0],\"y\":[0.0,1.0]},\"hovertemplate\":\"labels=%{label}<br>Distance_sum=%{value}<br>parent=%{parent}<br>id=%{id}<br>Distance=%{color}<extra></extra>\",\"ids\":[\"topic/\\uc6b0\\ud06c\\ub77c\\uc774\\ub098_\\uc704\\ud574_\\uc6b0\\ub9ac_\\uc788\\ub294_\\uc5ec\\ub7ec\\ubd84/\\uc6b0\\ud06c\\ub77c\\uc774\\ub098_\\ub7ec\\uc2dc\\uc544_\\uc788\\ub2e4_\\ubbf8\\uc0ac\\uc77c_\\ud0a4\\uc774\\uc6b0/\\uc6b0\\ud06c\\ub77c\\uc774\\ub098_\\ub7ec\\uc2dc\\uc544_\\ubbf8\\uc0ac\\uc77c_\\uc788\\ub2e4_\\ud0a4\\uc774\\uc6b0/\\ub7ec\\uc2dc\\uc544_\\uc6b0\\ud06c\\ub77c\\uc774\\ub098_\\ub7ec\\uc2dc\\uc544\\uad70_\\uad6d\\ubc29\\ubd80\\ub294_\\ud558\\uc774\\ub9c8\\uc2a4\",\"topic/\\uc6b0\\ud06c\\ub77c\\uc774\\ub098_\\uc704\\ud574_\\uc6b0\\ub9ac_\\uc788\\ub294_\\uc5ec\\ub7ec\\ubd84/\\uc6b0\\ud06c\\ub77c\\uc774\\ub098_\\ub7ec\\uc2dc\\uc544_\\uc788\\ub2e4_\\ubbf8\\uc0ac\\uc77c_\\ud0a4\\uc774\\uc6b0/\\ubaa8\\ub4e0_\\uc788\\ub294_\\ub0b4\\uac00_\\ud558\\ub098\\ub2d8\\uc758_\\uadf8\\ub9ac\\uace0/\\ubaa8\\ub4e0_\\ub0b4\\uac00_\\uc788\\ub294_\\ud558\\ub098\\ub2d8\\uc758_\\uadf8\\ub9ac\\uace0\",\"topic/\\uc6b0\\ud06c\\ub77c\\uc774\\ub098_\\uc704\\ud574_\\uc6b0\\ub9ac_\\uc788\\ub294_\\uc5ec\\ub7ec\\ubd84/\\uc6b0\\ud06c\\ub77c\\uc774\\ub098_\\ub7ec\\uc2dc\\uc544_\\uc788\\ub2e4_\\ubbf8\\uc0ac\\uc77c_\\ud0a4\\uc774\\uc6b0/\\ubaa8\\ub4e0_\\uc788\\ub294_\\ub0b4\\uac00_\\ud558\\ub098\\ub2d8\\uc758_\\uadf8\\ub9ac\\uace0/\\uc6b0\\ud06c\\ub77c\\uc774\\ub098_\\ub7ec\\uc2dc\\uc544_\\uc804\\uc7c1_\\ub7ec\\ubf55_\\uadf8\\ub0e5\",\"topic/\\uc6b0\\ud06c\\ub77c\\uc774\\ub098_\\uc704\\ud574_\\uc6b0\\ub9ac_\\uc788\\ub294_\\uc5ec\\ub7ec\\ubd84/\\uc6b0\\ud06c\\ub77c\\uc774\\ub098_\\ub7ec\\uc2dc\\uc544_\\uc788\\ub2e4_\\ubbf8\\uc0ac\\uc77c_\\ud0a4\\uc774\\uc6b0/\\uc6b0\\ud06c\\ub77c\\uc774\\ub098_\\ub7ec\\uc2dc\\uc544_\\ubbf8\\uc0ac\\uc77c_\\uc788\\ub2e4_\\ud0a4\\uc774\\uc6b0/\\uc6b0\\ud06c\\ub77c\\uc774\\ub098_\\ubbf8\\uc0ac\\uc77c_\\ud0a4\\uc774\\uc6b0_\\ub7ec\\uc2dc\\uc544_\\ubca8\\ub77c\\ub8e8\\uc2a4\",\"topic/\\uc6b0\\ud06c\\ub77c\\uc774\\ub098_\\uc704\\ud574_\\uc6b0\\ub9ac_\\uc788\\ub294_\\uc5ec\\ub7ec\\ubd84/\\uc6b0\\ud06c\\ub77c\\uc774\\ub098_\\ub7ec\\uc2dc\\uc544_\\uc788\\ub2e4_\\ubbf8\\uc0ac\\uc77c_\\ud0a4\\uc774\\uc6b0/\\ubaa8\\ub4e0_\\uc788\\ub294_\\ub0b4\\uac00_\\ud558\\ub098\\ub2d8\\uc758_\\uadf8\\ub9ac\\uace0\",\"topic/\\uc6b0\\ud06c\\ub77c\\uc774\\ub098_\\uc704\\ud574_\\uc6b0\\ub9ac_\\uc788\\ub294_\\uc5ec\\ub7ec\\ubd84/\\uc6b0\\ud06c\\ub77c\\uc774\\ub098_\\ub7ec\\uc2dc\\uc544_\\uc788\\ub2e4_\\ubbf8\\uc0ac\\uc77c_\\ud0a4\\uc774\\uc6b0/\\uc6b0\\ud06c\\ub77c\\uc774\\ub098_\\ub7ec\\uc2dc\\uc544_\\ubbf8\\uc0ac\\uc77c_\\uc788\\ub2e4_\\ud0a4\\uc774\\uc6b0\",\"topic/\\uc6b0\\ud06c\\ub77c\\uc774\\ub098_\\uc704\\ud574_\\uc6b0\\ub9ac_\\uc788\\ub294_\\uc5ec\\ub7ec\\ubd84/\\uc6b0\\ud06c\\ub77c\\uc774\\ub098_\\ub7ec\\uc2dc\\uc544_\\uc788\\ub2e4_\\ubbf8\\uc0ac\\uc77c_\\ud0a4\\uc774\\uc6b0\",\"topic/\\uc6b0\\ud06c\\ub77c\\uc774\\ub098_\\uc704\\ud574_\\uc6b0\\ub9ac_\\uc788\\ub294_\\uc5ec\\ub7ec\\ubd84/\\uc704\\ud574_\\uc5ec\\ub7ec\\ubd84_\\uc6b0\\ub9ac_\\uc704\\ud55c_\\uc2dc\\ubbfc\",\"topic/\\uc6b0\\ud06c\\ub77c\\uc774\\ub098_\\uc704\\ud574_\\uc6b0\\ub9ac_\\uc788\\ub294_\\uc5ec\\ub7ec\\ubd84\",\"topic\"],\"labels\":[\"\\ub7ec\\uc2dc\\uc544_\\uc6b0\\ud06c\\ub77c\\uc774\\ub098_\\ub7ec\\uc2dc\\uc544\\uad70_\\uad6d\\ubc29\\ubd80\\ub294_\\ud558\\uc774\\ub9c8\\uc2a4\",\"\\ubaa8\\ub4e0_\\ub0b4\\uac00_\\uc788\\ub294_\\ud558\\ub098\\ub2d8\\uc758_\\uadf8\\ub9ac\\uace0\",\"\\uc6b0\\ud06c\\ub77c\\uc774\\ub098_\\ub7ec\\uc2dc\\uc544_\\uc804\\uc7c1_\\ub7ec\\ubf55_\\uadf8\\ub0e5\",\"\\uc6b0\\ud06c\\ub77c\\uc774\\ub098_\\ubbf8\\uc0ac\\uc77c_\\ud0a4\\uc774\\uc6b0_\\ub7ec\\uc2dc\\uc544_\\ubca8\\ub77c\\ub8e8\\uc2a4\",\"\\ubaa8\\ub4e0_\\uc788\\ub294_\\ub0b4\\uac00_\\ud558\\ub098\\ub2d8\\uc758_\\uadf8\\ub9ac\\uace0\",\"\\uc6b0\\ud06c\\ub77c\\uc774\\ub098_\\ub7ec\\uc2dc\\uc544_\\ubbf8\\uc0ac\\uc77c_\\uc788\\ub2e4_\\ud0a4\\uc774\\uc6b0\",\"\\uc6b0\\ud06c\\ub77c\\uc774\\ub098_\\ub7ec\\uc2dc\\uc544_\\uc788\\ub2e4_\\ubbf8\\uc0ac\\uc77c_\\ud0a4\\uc774\\uc6b0\",\"\\uc704\\ud574_\\uc5ec\\ub7ec\\ubd84_\\uc6b0\\ub9ac_\\uc704\\ud55c_\\uc2dc\\ubbfc\",\"\\uc6b0\\ud06c\\ub77c\\uc774\\ub098_\\uc704\\ud574_\\uc6b0\\ub9ac_\\uc788\\ub294_\\uc5ec\\ub7ec\\ubd84\",\"topic\"],\"marker\":{\"coloraxis\":\"coloraxis\",\"colors\":[0.5784407100871232,0.8655849289071627,0.8655849289071627,0.5784407100871232,0.8655849289071627,0.5784407100871232,0.7505621056646639,0.9409463701226608,0.7973475568541135,0.7973475568541135]},\"name\":\"\",\"parents\":[\"topic/\\uc6b0\\ud06c\\ub77c\\uc774\\ub098_\\uc704\\ud574_\\uc6b0\\ub9ac_\\uc788\\ub294_\\uc5ec\\ub7ec\\ubd84/\\uc6b0\\ud06c\\ub77c\\uc774\\ub098_\\ub7ec\\uc2dc\\uc544_\\uc788\\ub2e4_\\ubbf8\\uc0ac\\uc77c_\\ud0a4\\uc774\\uc6b0/\\uc6b0\\ud06c\\ub77c\\uc774\\ub098_\\ub7ec\\uc2dc\\uc544_\\ubbf8\\uc0ac\\uc77c_\\uc788\\ub2e4_\\ud0a4\\uc774\\uc6b0\",\"topic/\\uc6b0\\ud06c\\ub77c\\uc774\\ub098_\\uc704\\ud574_\\uc6b0\\ub9ac_\\uc788\\ub294_\\uc5ec\\ub7ec\\ubd84/\\uc6b0\\ud06c\\ub77c\\uc774\\ub098_\\ub7ec\\uc2dc\\uc544_\\uc788\\ub2e4_\\ubbf8\\uc0ac\\uc77c_\\ud0a4\\uc774\\uc6b0/\\ubaa8\\ub4e0_\\uc788\\ub294_\\ub0b4\\uac00_\\ud558\\ub098\\ub2d8\\uc758_\\uadf8\\ub9ac\\uace0\",\"topic/\\uc6b0\\ud06c\\ub77c\\uc774\\ub098_\\uc704\\ud574_\\uc6b0\\ub9ac_\\uc788\\ub294_\\uc5ec\\ub7ec\\ubd84/\\uc6b0\\ud06c\\ub77c\\uc774\\ub098_\\ub7ec\\uc2dc\\uc544_\\uc788\\ub2e4_\\ubbf8\\uc0ac\\uc77c_\\ud0a4\\uc774\\uc6b0/\\ubaa8\\ub4e0_\\uc788\\ub294_\\ub0b4\\uac00_\\ud558\\ub098\\ub2d8\\uc758_\\uadf8\\ub9ac\\uace0\",\"topic/\\uc6b0\\ud06c\\ub77c\\uc774\\ub098_\\uc704\\ud574_\\uc6b0\\ub9ac_\\uc788\\ub294_\\uc5ec\\ub7ec\\ubd84/\\uc6b0\\ud06c\\ub77c\\uc774\\ub098_\\ub7ec\\uc2dc\\uc544_\\uc788\\ub2e4_\\ubbf8\\uc0ac\\uc77c_\\ud0a4\\uc774\\uc6b0/\\uc6b0\\ud06c\\ub77c\\uc774\\ub098_\\ub7ec\\uc2dc\\uc544_\\ubbf8\\uc0ac\\uc77c_\\uc788\\ub2e4_\\ud0a4\\uc774\\uc6b0\",\"topic/\\uc6b0\\ud06c\\ub77c\\uc774\\ub098_\\uc704\\ud574_\\uc6b0\\ub9ac_\\uc788\\ub294_\\uc5ec\\ub7ec\\ubd84/\\uc6b0\\ud06c\\ub77c\\uc774\\ub098_\\ub7ec\\uc2dc\\uc544_\\uc788\\ub2e4_\\ubbf8\\uc0ac\\uc77c_\\ud0a4\\uc774\\uc6b0\",\"topic/\\uc6b0\\ud06c\\ub77c\\uc774\\ub098_\\uc704\\ud574_\\uc6b0\\ub9ac_\\uc788\\ub294_\\uc5ec\\ub7ec\\ubd84/\\uc6b0\\ud06c\\ub77c\\uc774\\ub098_\\ub7ec\\uc2dc\\uc544_\\uc788\\ub2e4_\\ubbf8\\uc0ac\\uc77c_\\ud0a4\\uc774\\uc6b0\",\"topic/\\uc6b0\\ud06c\\ub77c\\uc774\\ub098_\\uc704\\ud574_\\uc6b0\\ub9ac_\\uc788\\ub294_\\uc5ec\\ub7ec\\ubd84\",\"topic/\\uc6b0\\ud06c\\ub77c\\uc774\\ub098_\\uc704\\ud574_\\uc6b0\\ub9ac_\\uc788\\ub294_\\uc5ec\\ub7ec\\ubd84\",\"topic\",\"\"],\"values\":[0.5784407100871232,0.8655849289071625,0.8655849289071625,0.5784407100871232,1.731169857814325,1.1568814201742463,2.8880512779885716,0.9409463701226608,3.8289976481112324,3.8289976481112324],\"type\":\"treemap\",\"root\":{\"color\":\"lightgrey\"}}],                        {\"template\":{\"data\":{\"histogram2dcontour\":[{\"type\":\"histogram2dcontour\",\"colorbar\":{\"outlinewidth\":0,\"ticks\":\"\"},\"colorscale\":[[0.0,\"#0d0887\"],[0.1111111111111111,\"#46039f\"],[0.2222222222222222,\"#7201a8\"],[0.3333333333333333,\"#9c179e\"],[0.4444444444444444,\"#bd3786\"],[0.5555555555555556,\"#d8576b\"],[0.6666666666666666,\"#ed7953\"],[0.7777777777777778,\"#fb9f3a\"],[0.8888888888888888,\"#fdca26\"],[1.0,\"#f0f921\"]]}],\"choropleth\":[{\"type\":\"choropleth\",\"colorbar\":{\"outlinewidth\":0,\"ticks\":\"\"}}],\"histogram2d\":[{\"type\":\"histogram2d\",\"colorbar\":{\"outlinewidth\":0,\"ticks\":\"\"},\"colorscale\":[[0.0,\"#0d0887\"],[0.1111111111111111,\"#46039f\"],[0.2222222222222222,\"#7201a8\"],[0.3333333333333333,\"#9c179e\"],[0.4444444444444444,\"#bd3786\"],[0.5555555555555556,\"#d8576b\"],[0.6666666666666666,\"#ed7953\"],[0.7777777777777778,\"#fb9f3a\"],[0.8888888888888888,\"#fdca26\"],[1.0,\"#f0f921\"]]}],\"heatmap\":[{\"type\":\"heatmap\",\"colorbar\":{\"outlinewidth\":0,\"ticks\":\"\"},\"colorscale\":[[0.0,\"#0d0887\"],[0.1111111111111111,\"#46039f\"],[0.2222222222222222,\"#7201a8\"],[0.3333333333333333,\"#9c179e\"],[0.4444444444444444,\"#bd3786\"],[0.5555555555555556,\"#d8576b\"],[0.6666666666666666,\"#ed7953\"],[0.7777777777777778,\"#fb9f3a\"],[0.8888888888888888,\"#fdca26\"],[1.0,\"#f0f921\"]]}],\"heatmapgl\":[{\"type\":\"heatmapgl\",\"colorbar\":{\"outlinewidth\":0,\"ticks\":\"\"},\"colorscale\":[[0.0,\"#0d0887\"],[0.1111111111111111,\"#46039f\"],[0.2222222222222222,\"#7201a8\"],[0.3333333333333333,\"#9c179e\"],[0.4444444444444444,\"#bd3786\"],[0.5555555555555556,\"#d8576b\"],[0.6666666666666666,\"#ed7953\"],[0.7777777777777778,\"#fb9f3a\"],[0.8888888888888888,\"#fdca26\"],[1.0,\"#f0f921\"]]}],\"contourcarpet\":[{\"type\":\"contourcarpet\",\"colorbar\":{\"outlinewidth\":0,\"ticks\":\"\"}}],\"contour\":[{\"type\":\"contour\",\"colorbar\":{\"outlinewidth\":0,\"ticks\":\"\"},\"colorscale\":[[0.0,\"#0d0887\"],[0.1111111111111111,\"#46039f\"],[0.2222222222222222,\"#7201a8\"],[0.3333333333333333,\"#9c179e\"],[0.4444444444444444,\"#bd3786\"],[0.5555555555555556,\"#d8576b\"],[0.6666666666666666,\"#ed7953\"],[0.7777777777777778,\"#fb9f3a\"],[0.8888888888888888,\"#fdca26\"],[1.0,\"#f0f921\"]]}],\"surface\":[{\"type\":\"surface\",\"colorbar\":{\"outlinewidth\":0,\"ticks\":\"\"},\"colorscale\":[[0.0,\"#0d0887\"],[0.1111111111111111,\"#46039f\"],[0.2222222222222222,\"#7201a8\"],[0.3333333333333333,\"#9c179e\"],[0.4444444444444444,\"#bd3786\"],[0.5555555555555556,\"#d8576b\"],[0.6666666666666666,\"#ed7953\"],[0.7777777777777778,\"#fb9f3a\"],[0.8888888888888888,\"#fdca26\"],[1.0,\"#f0f921\"]]}],\"mesh3d\":[{\"type\":\"mesh3d\",\"colorbar\":{\"outlinewidth\":0,\"ticks\":\"\"}}],\"scatter\":[{\"fillpattern\":{\"fillmode\":\"overlay\",\"size\":10,\"solidity\":0.2},\"type\":\"scatter\"}],\"parcoords\":[{\"type\":\"parcoords\",\"line\":{\"colorbar\":{\"outlinewidth\":0,\"ticks\":\"\"}}}],\"scatterpolargl\":[{\"type\":\"scatterpolargl\",\"marker\":{\"colorbar\":{\"outlinewidth\":0,\"ticks\":\"\"}}}],\"bar\":[{\"error_x\":{\"color\":\"#2a3f5f\"},\"error_y\":{\"color\":\"#2a3f5f\"},\"marker\":{\"line\":{\"color\":\"#E5ECF6\",\"width\":0.5},\"pattern\":{\"fillmode\":\"overlay\",\"size\":10,\"solidity\":0.2}},\"type\":\"bar\"}],\"scattergeo\":[{\"type\":\"scattergeo\",\"marker\":{\"colorbar\":{\"outlinewidth\":0,\"ticks\":\"\"}}}],\"scatterpolar\":[{\"type\":\"scatterpolar\",\"marker\":{\"colorbar\":{\"outlinewidth\":0,\"ticks\":\"\"}}}],\"histogram\":[{\"marker\":{\"pattern\":{\"fillmode\":\"overlay\",\"size\":10,\"solidity\":0.2}},\"type\":\"histogram\"}],\"scattergl\":[{\"type\":\"scattergl\",\"marker\":{\"colorbar\":{\"outlinewidth\":0,\"ticks\":\"\"}}}],\"scatter3d\":[{\"type\":\"scatter3d\",\"line\":{\"colorbar\":{\"outlinewidth\":0,\"ticks\":\"\"}},\"marker\":{\"colorbar\":{\"outlinewidth\":0,\"ticks\":\"\"}}}],\"scattermapbox\":[{\"type\":\"scattermapbox\",\"marker\":{\"colorbar\":{\"outlinewidth\":0,\"ticks\":\"\"}}}],\"scatterternary\":[{\"type\":\"scatterternary\",\"marker\":{\"colorbar\":{\"outlinewidth\":0,\"ticks\":\"\"}}}],\"scattercarpet\":[{\"type\":\"scattercarpet\",\"marker\":{\"colorbar\":{\"outlinewidth\":0,\"ticks\":\"\"}}}],\"carpet\":[{\"aaxis\":{\"endlinecolor\":\"#2a3f5f\",\"gridcolor\":\"white\",\"linecolor\":\"white\",\"minorgridcolor\":\"white\",\"startlinecolor\":\"#2a3f5f\"},\"baxis\":{\"endlinecolor\":\"#2a3f5f\",\"gridcolor\":\"white\",\"linecolor\":\"white\",\"minorgridcolor\":\"white\",\"startlinecolor\":\"#2a3f5f\"},\"type\":\"carpet\"}],\"table\":[{\"cells\":{\"fill\":{\"color\":\"#EBF0F8\"},\"line\":{\"color\":\"white\"}},\"header\":{\"fill\":{\"color\":\"#C8D4E3\"},\"line\":{\"color\":\"white\"}},\"type\":\"table\"}],\"barpolar\":[{\"marker\":{\"line\":{\"color\":\"#E5ECF6\",\"width\":0.5},\"pattern\":{\"fillmode\":\"overlay\",\"size\":10,\"solidity\":0.2}},\"type\":\"barpolar\"}],\"pie\":[{\"automargin\":true,\"type\":\"pie\"}]},\"layout\":{\"autotypenumbers\":\"strict\",\"colorway\":[\"#636efa\",\"#EF553B\",\"#00cc96\",\"#ab63fa\",\"#FFA15A\",\"#19d3f3\",\"#FF6692\",\"#B6E880\",\"#FF97FF\",\"#FECB52\"],\"font\":{\"color\":\"#2a3f5f\"},\"hovermode\":\"closest\",\"hoverlabel\":{\"align\":\"left\"},\"paper_bgcolor\":\"white\",\"plot_bgcolor\":\"#E5ECF6\",\"polar\":{\"bgcolor\":\"#E5ECF6\",\"angularaxis\":{\"gridcolor\":\"white\",\"linecolor\":\"white\",\"ticks\":\"\"},\"radialaxis\":{\"gridcolor\":\"white\",\"linecolor\":\"white\",\"ticks\":\"\"}},\"ternary\":{\"bgcolor\":\"#E5ECF6\",\"aaxis\":{\"gridcolor\":\"white\",\"linecolor\":\"white\",\"ticks\":\"\"},\"baxis\":{\"gridcolor\":\"white\",\"linecolor\":\"white\",\"ticks\":\"\"},\"caxis\":{\"gridcolor\":\"white\",\"linecolor\":\"white\",\"ticks\":\"\"}},\"coloraxis\":{\"colorbar\":{\"outlinewidth\":0,\"ticks\":\"\"}},\"colorscale\":{\"sequential\":[[0.0,\"#0d0887\"],[0.1111111111111111,\"#46039f\"],[0.2222222222222222,\"#7201a8\"],[0.3333333333333333,\"#9c179e\"],[0.4444444444444444,\"#bd3786\"],[0.5555555555555556,\"#d8576b\"],[0.6666666666666666,\"#ed7953\"],[0.7777777777777778,\"#fb9f3a\"],[0.8888888888888888,\"#fdca26\"],[1.0,\"#f0f921\"]],\"sequentialminus\":[[0.0,\"#0d0887\"],[0.1111111111111111,\"#46039f\"],[0.2222222222222222,\"#7201a8\"],[0.3333333333333333,\"#9c179e\"],[0.4444444444444444,\"#bd3786\"],[0.5555555555555556,\"#d8576b\"],[0.6666666666666666,\"#ed7953\"],[0.7777777777777778,\"#fb9f3a\"],[0.8888888888888888,\"#fdca26\"],[1.0,\"#f0f921\"]],\"diverging\":[[0,\"#8e0152\"],[0.1,\"#c51b7d\"],[0.2,\"#de77ae\"],[0.3,\"#f1b6da\"],[0.4,\"#fde0ef\"],[0.5,\"#f7f7f7\"],[0.6,\"#e6f5d0\"],[0.7,\"#b8e186\"],[0.8,\"#7fbc41\"],[0.9,\"#4d9221\"],[1,\"#276419\"]]},\"xaxis\":{\"gridcolor\":\"white\",\"linecolor\":\"white\",\"ticks\":\"\",\"title\":{\"standoff\":15},\"zerolinecolor\":\"white\",\"automargin\":true,\"zerolinewidth\":2},\"yaxis\":{\"gridcolor\":\"white\",\"linecolor\":\"white\",\"ticks\":\"\",\"title\":{\"standoff\":15},\"zerolinecolor\":\"white\",\"automargin\":true,\"zerolinewidth\":2},\"scene\":{\"xaxis\":{\"backgroundcolor\":\"#E5ECF6\",\"gridcolor\":\"white\",\"linecolor\":\"white\",\"showbackground\":true,\"ticks\":\"\",\"zerolinecolor\":\"white\",\"gridwidth\":2},\"yaxis\":{\"backgroundcolor\":\"#E5ECF6\",\"gridcolor\":\"white\",\"linecolor\":\"white\",\"showbackground\":true,\"ticks\":\"\",\"zerolinecolor\":\"white\",\"gridwidth\":2},\"zaxis\":{\"backgroundcolor\":\"#E5ECF6\",\"gridcolor\":\"white\",\"linecolor\":\"white\",\"showbackground\":true,\"ticks\":\"\",\"zerolinecolor\":\"white\",\"gridwidth\":2}},\"shapedefaults\":{\"line\":{\"color\":\"#2a3f5f\"}},\"annotationdefaults\":{\"arrowcolor\":\"#2a3f5f\",\"arrowhead\":0,\"arrowwidth\":1},\"geo\":{\"bgcolor\":\"white\",\"landcolor\":\"#E5ECF6\",\"subunitcolor\":\"white\",\"showland\":true,\"showlakes\":true,\"lakecolor\":\"white\"},\"title\":{\"x\":0.05},\"mapbox\":{\"style\":\"light\"}}},\"coloraxis\":{\"colorbar\":{\"title\":{\"text\":\"Distance\"}},\"colorscale\":[[0.0,\"rgb(103,0,31)\"],[0.1,\"rgb(178,24,43)\"],[0.2,\"rgb(214,96,77)\"],[0.3,\"rgb(244,165,130)\"],[0.4,\"rgb(253,219,199)\"],[0.5,\"rgb(247,247,247)\"],[0.6,\"rgb(209,229,240)\"],[0.7,\"rgb(146,197,222)\"],[0.8,\"rgb(67,147,195)\"],[0.9,\"rgb(33,102,172)\"],[1.0,\"rgb(5,48,97)\"]]},\"legend\":{\"tracegroupgap\":0},\"margin\":{\"t\":50,\"l\":25,\"r\":25,\"b\":25}},                        {\"responsive\": true}                    ).then(function(){\n",
       "                            \n",
       "var gd = document.getElementById('9e28c50f-6181-458c-bb36-8517635368bc');\n",
       "var x = new MutationObserver(function (mutations, observer) {{\n",
       "        var display = window.getComputedStyle(gd).display;\n",
       "        if (!display || display === 'none') {{\n",
       "            console.log([gd, 'removed!']);\n",
       "            Plotly.purge(gd);\n",
       "            observer.disconnect();\n",
       "        }}\n",
       "}});\n",
       "\n",
       "// Listen for the removal of the full notebook cells\n",
       "var notebookContainer = gd.closest('#notebook-container');\n",
       "if (notebookContainer) {{\n",
       "    x.observe(notebookContainer, {childList: true});\n",
       "}}\n",
       "\n",
       "// Listen for the clearing of the current output cell\n",
       "var outputEl = gd.closest('.output');\n",
       "if (outputEl) {{\n",
       "    x.observe(outputEl, {childList: true});\n",
       "}}\n",
       "\n",
       "                        })                };                });            </script>        </div>"
      ]
     },
     "metadata": {},
     "output_type": "display_data"
    }
   ],
   "source": [
    "import plotly.express as px\n",
    "\n",
    "df=px.data.tips()\n",
    "\n",
    "fig = px.treemap(parent_data2, path=[px.Constant(\"topic\"), 'Parent_Name','Child_Name5','Child_Name4','Child_Name'], values='Distance',\n",
    "                color='Distance',color_continuous_scale='RdBu')\n",
    "fig.update_traces(root_color=\"lightgrey\")\n",
    "fig.update_layout(margin = dict(t=50, l=25, r=25, b=25))\n",
    "fig.show()"
   ]
  },
  {
   "cell_type": "code",
   "execution_count": 181,
   "metadata": {},
   "outputs": [],
   "source": [
    "df = px.data.gapminder().query(\"year == 2007\")"
   ]
  },
  {
   "cell_type": "code",
   "execution_count": 182,
   "metadata": {},
   "outputs": [
    {
     "data": {
      "text/html": [
       "<div>\n",
       "<style scoped>\n",
       "    .dataframe tbody tr th:only-of-type {\n",
       "        vertical-align: middle;\n",
       "    }\n",
       "\n",
       "    .dataframe tbody tr th {\n",
       "        vertical-align: top;\n",
       "    }\n",
       "\n",
       "    .dataframe thead th {\n",
       "        text-align: right;\n",
       "    }\n",
       "</style>\n",
       "<table border=\"1\" class=\"dataframe\">\n",
       "  <thead>\n",
       "    <tr style=\"text-align: right;\">\n",
       "      <th></th>\n",
       "      <th>country</th>\n",
       "      <th>continent</th>\n",
       "      <th>year</th>\n",
       "      <th>lifeExp</th>\n",
       "      <th>pop</th>\n",
       "      <th>gdpPercap</th>\n",
       "      <th>iso_alpha</th>\n",
       "      <th>iso_num</th>\n",
       "    </tr>\n",
       "  </thead>\n",
       "  <tbody>\n",
       "    <tr>\n",
       "      <th>11</th>\n",
       "      <td>Afghanistan</td>\n",
       "      <td>Asia</td>\n",
       "      <td>2007</td>\n",
       "      <td>43.828</td>\n",
       "      <td>31889923</td>\n",
       "      <td>974.580338</td>\n",
       "      <td>AFG</td>\n",
       "      <td>4</td>\n",
       "    </tr>\n",
       "    <tr>\n",
       "      <th>23</th>\n",
       "      <td>Albania</td>\n",
       "      <td>Europe</td>\n",
       "      <td>2007</td>\n",
       "      <td>76.423</td>\n",
       "      <td>3600523</td>\n",
       "      <td>5937.029526</td>\n",
       "      <td>ALB</td>\n",
       "      <td>8</td>\n",
       "    </tr>\n",
       "    <tr>\n",
       "      <th>35</th>\n",
       "      <td>Algeria</td>\n",
       "      <td>Africa</td>\n",
       "      <td>2007</td>\n",
       "      <td>72.301</td>\n",
       "      <td>33333216</td>\n",
       "      <td>6223.367465</td>\n",
       "      <td>DZA</td>\n",
       "      <td>12</td>\n",
       "    </tr>\n",
       "    <tr>\n",
       "      <th>47</th>\n",
       "      <td>Angola</td>\n",
       "      <td>Africa</td>\n",
       "      <td>2007</td>\n",
       "      <td>42.731</td>\n",
       "      <td>12420476</td>\n",
       "      <td>4797.231267</td>\n",
       "      <td>AGO</td>\n",
       "      <td>24</td>\n",
       "    </tr>\n",
       "    <tr>\n",
       "      <th>59</th>\n",
       "      <td>Argentina</td>\n",
       "      <td>Americas</td>\n",
       "      <td>2007</td>\n",
       "      <td>75.320</td>\n",
       "      <td>40301927</td>\n",
       "      <td>12779.379640</td>\n",
       "      <td>ARG</td>\n",
       "      <td>32</td>\n",
       "    </tr>\n",
       "    <tr>\n",
       "      <th>...</th>\n",
       "      <td>...</td>\n",
       "      <td>...</td>\n",
       "      <td>...</td>\n",
       "      <td>...</td>\n",
       "      <td>...</td>\n",
       "      <td>...</td>\n",
       "      <td>...</td>\n",
       "      <td>...</td>\n",
       "    </tr>\n",
       "    <tr>\n",
       "      <th>1655</th>\n",
       "      <td>Vietnam</td>\n",
       "      <td>Asia</td>\n",
       "      <td>2007</td>\n",
       "      <td>74.249</td>\n",
       "      <td>85262356</td>\n",
       "      <td>2441.576404</td>\n",
       "      <td>VNM</td>\n",
       "      <td>704</td>\n",
       "    </tr>\n",
       "    <tr>\n",
       "      <th>1667</th>\n",
       "      <td>West Bank and Gaza</td>\n",
       "      <td>Asia</td>\n",
       "      <td>2007</td>\n",
       "      <td>73.422</td>\n",
       "      <td>4018332</td>\n",
       "      <td>3025.349798</td>\n",
       "      <td>PSE</td>\n",
       "      <td>275</td>\n",
       "    </tr>\n",
       "    <tr>\n",
       "      <th>1679</th>\n",
       "      <td>Yemen, Rep.</td>\n",
       "      <td>Asia</td>\n",
       "      <td>2007</td>\n",
       "      <td>62.698</td>\n",
       "      <td>22211743</td>\n",
       "      <td>2280.769906</td>\n",
       "      <td>YEM</td>\n",
       "      <td>887</td>\n",
       "    </tr>\n",
       "    <tr>\n",
       "      <th>1691</th>\n",
       "      <td>Zambia</td>\n",
       "      <td>Africa</td>\n",
       "      <td>2007</td>\n",
       "      <td>42.384</td>\n",
       "      <td>11746035</td>\n",
       "      <td>1271.211593</td>\n",
       "      <td>ZMB</td>\n",
       "      <td>894</td>\n",
       "    </tr>\n",
       "    <tr>\n",
       "      <th>1703</th>\n",
       "      <td>Zimbabwe</td>\n",
       "      <td>Africa</td>\n",
       "      <td>2007</td>\n",
       "      <td>43.487</td>\n",
       "      <td>12311143</td>\n",
       "      <td>469.709298</td>\n",
       "      <td>ZWE</td>\n",
       "      <td>716</td>\n",
       "    </tr>\n",
       "  </tbody>\n",
       "</table>\n",
       "<p>142 rows × 8 columns</p>\n",
       "</div>"
      ],
      "text/plain": [
       "                 country continent  year  lifeExp       pop     gdpPercap  \\\n",
       "11           Afghanistan      Asia  2007   43.828  31889923    974.580338   \n",
       "23               Albania    Europe  2007   76.423   3600523   5937.029526   \n",
       "35               Algeria    Africa  2007   72.301  33333216   6223.367465   \n",
       "47                Angola    Africa  2007   42.731  12420476   4797.231267   \n",
       "59             Argentina  Americas  2007   75.320  40301927  12779.379640   \n",
       "...                  ...       ...   ...      ...       ...           ...   \n",
       "1655             Vietnam      Asia  2007   74.249  85262356   2441.576404   \n",
       "1667  West Bank and Gaza      Asia  2007   73.422   4018332   3025.349798   \n",
       "1679         Yemen, Rep.      Asia  2007   62.698  22211743   2280.769906   \n",
       "1691              Zambia    Africa  2007   42.384  11746035   1271.211593   \n",
       "1703            Zimbabwe    Africa  2007   43.487  12311143    469.709298   \n",
       "\n",
       "     iso_alpha  iso_num  \n",
       "11         AFG        4  \n",
       "23         ALB        8  \n",
       "35         DZA       12  \n",
       "47         AGO       24  \n",
       "59         ARG       32  \n",
       "...        ...      ...  \n",
       "1655       VNM      704  \n",
       "1667       PSE      275  \n",
       "1679       YEM      887  \n",
       "1691       ZMB      894  \n",
       "1703       ZWE      716  \n",
       "\n",
       "[142 rows x 8 columns]"
      ]
     },
     "execution_count": 182,
     "metadata": {},
     "output_type": "execute_result"
    }
   ],
   "source": [
    "df"
   ]
  },
  {
   "cell_type": "code",
   "execution_count": null,
   "metadata": {},
   "outputs": [],
   "source": []
  }
 ],
 "metadata": {
  "kernelspec": {
   "display_name": "Python 3.8.10 64-bit",
   "language": "python",
   "name": "python3"
  },
  "language_info": {
   "codemirror_mode": {
    "name": "ipython",
    "version": 3
   },
   "file_extension": ".py",
   "mimetype": "text/x-python",
   "name": "python",
   "nbconvert_exporter": "python",
   "pygments_lexer": "ipython3",
   "version": "3.8.10 (default, Mar 15 2022, 12:22:08) \n[GCC 9.4.0]"
  },
  "orig_nbformat": 4,
  "vscode": {
   "interpreter": {
    "hash": "e7370f93d1d0cde622a1f8e1c04877d8463912d04d973331ad4851f04de6915a"
   }
  }
 },
 "nbformat": 4,
 "nbformat_minor": 2
}
